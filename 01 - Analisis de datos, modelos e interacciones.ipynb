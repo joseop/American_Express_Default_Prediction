{
  "cells": [
    {
      "cell_type": "markdown",
      "metadata": {
        "id": "view-in-github",
        "colab_type": "text"
      },
      "source": [
        "<a href=\"https://colab.research.google.com/github/joseop/American_Express_Default_Prediction/blob/main/01%20-%20Analisis%20de%20datos%2C%20modelos%20e%20interacciones.ipynb\" target=\"_parent\"><img src=\"https://colab.research.google.com/assets/colab-badge.svg\" alt=\"Open In Colab\"/></a>"
      ]
    },
    {
      "cell_type": "markdown",
      "id": "WQsnqh7wZIXU",
      "metadata": {
        "id": "WQsnqh7wZIXU"
      },
      "source": [
        "# ANALISIS DE LOS DATOS, MODELOS E INTERACCIONES"
      ]
    },
    {
      "cell_type": "markdown",
      "id": "tNWbSnwxZVBE",
      "metadata": {
        "id": "tNWbSnwxZVBE"
      },
      "source": [
        "### La competencia de kaggle desde el siguiente enlace\n",
        "https://www.kaggle.com/competitions/amex-default-prediction/data"
      ]
    },
    {
      "cell_type": "markdown",
      "id": "dQG_HghtZXHN",
      "metadata": {
        "id": "dQG_HghtZXHN"
      },
      "source": [
        "Primero importamos las librerias necesarias"
      ]
    },
    {
      "cell_type": "code",
      "execution_count": null,
      "id": "2fbc2fc4",
      "metadata": {
        "id": "2fbc2fc4"
      },
      "outputs": [],
      "source": [
        "import pandas as pd\n",
        "import matplotlib.pyplot as plt\n",
        "import seaborn as sns\n",
        "import numpy as np\n",
        "from sklearn.model_selection import train_test_split\n",
        "from sklearn.model_selection import train_test_split\n",
        "from sklearn.preprocessing import OneHotEncoder\n",
        "from sklearn.linear_model import LogisticRegression\n",
        "from sklearn.ensemble import RandomForestClassifier\n",
        "from sklearn.svm import SVC\n",
        "from sklearn.preprocessing import LabelEncoder\n",
        "from sklearn.metrics import accuracy_score, classification_report, precision_score, recall_score, roc_auc_score, confusion_matrix\n",
        "from sklearn.model_selection import GridSearchCV\n",
        "from sklearn.ensemble import RandomForestClassifier\n",
        "from sklearn.model_selection import learning_curve\n",
        "import matplotlib.pyplot as plt\n",
        "import xgboost as xgb\n",
        "from sklearn.decomposition import PCA\n",
        "from sklearn.pipeline import Pipeline\n",
        "from xgboost import XGBClassifier\n"
      ]
    },
    {
      "cell_type": "markdown",
      "id": "b403630b",
      "metadata": {
        "id": "b403630b"
      },
      "source": [
        "Significado de las variables\n",
        "\n",
        "- D_* = Delinquency variables\n",
        "- S_* = Spend variables\n",
        "- P_* = Payment variables\n",
        "- B_* = Balance variables\n",
        "- R_* = Risk variables"
      ]
    },
    {
      "cell_type": "markdown",
      "id": "DCHxVboPZcbs",
      "metadata": {
        "id": "DCHxVboPZcbs"
      },
      "source": [
        "Estaremos trabajando con el archivo data_full.text, que es el archivo ya trabajado y con su tamaño drasticamente reducido.\n",
        "Puedes obtenerlo directamente desde la siguiente linea"
      ]
    },
    {
      "cell_type": "code",
      "execution_count": null,
      "id": "CYUHrU5FaIlB",
      "metadata": {
        "colab": {
          "base_uri": "https://localhost:8080/"
        },
        "id": "CYUHrU5FaIlB",
        "outputId": "92223124-7930-4c92-8416-35487de4bef5"
      },
      "outputs": [
        {
          "name": "stdout",
          "output_type": "stream",
          "text": [
            "--2024-03-28 02:20:51--  https://drive.google.com/uc?export=download&id=1jZ_r3OvEXQgsjHxKeB-5qScQYRGUjz0E\n",
            "Resolving drive.google.com (drive.google.com)... 142.250.157.100, 142.250.157.139, 142.250.157.101, ...\n",
            "Connecting to drive.google.com (drive.google.com)|142.250.157.100|:443... connected.\n",
            "HTTP request sent, awaiting response... 303 See Other\n",
            "Location: https://drive.usercontent.google.com/download?id=1jZ_r3OvEXQgsjHxKeB-5qScQYRGUjz0E&export=download [following]\n",
            "--2024-03-28 02:20:52--  https://drive.usercontent.google.com/download?id=1jZ_r3OvEXQgsjHxKeB-5qScQYRGUjz0E&export=download\n",
            "Resolving drive.usercontent.google.com (drive.usercontent.google.com)... 108.177.97.132, 2404:6800:4008:c00::84\n",
            "Connecting to drive.usercontent.google.com (drive.usercontent.google.com)|108.177.97.132|:443... connected.\n",
            "HTTP request sent, awaiting response... 200 OK\n",
            "Length: 17778398 (17M) [application/octet-stream]\n",
            "Saving to: ‘data_full.txt’\n",
            "\n",
            "data_full.txt       100%[===================>]  16.95M  36.3MB/s    in 0.5s    \n",
            "\n",
            "2024-03-28 02:20:55 (36.3 MB/s) - ‘data_full.txt’ saved [17778398/17778398]\n",
            "\n"
          ]
        }
      ],
      "source": [
        "#!wget -O data_full.txt \"https://drive.google.com/uc?export=download&id=1tXL1hqY_att63Ss55o6_BCOqnx17VPqH\"\n",
        "!wget -O data_full.txt \"https://drive.google.com/uc?export=download&id=1jZ_r3OvEXQgsjHxKeB-5qScQYRGUjz0E\"\n"
      ]
    },
    {
      "cell_type": "code",
      "execution_count": null,
      "id": "30b2f589",
      "metadata": {
        "colab": {
          "base_uri": "https://localhost:8080/",
          "height": 342
        },
        "id": "30b2f589",
        "outputId": "924d5baa-9389-43fa-b2f7-7fe9c8946bf5",
        "scrolled": false
      },
      "outputs": [
        {
          "data": {
            "application/vnd.google.colaboratory.intrinsic+json": {
              "type": "dataframe",
              "variable_name": "df"
            },
            "text/html": [
              "\n",
              "  <div id=\"df-1b0b897f-4f58-47da-8b29-d83c391a13e5\" class=\"colab-df-container\">\n",
              "    <div>\n",
              "<style scoped>\n",
              "    .dataframe tbody tr th:only-of-type {\n",
              "        vertical-align: middle;\n",
              "    }\n",
              "\n",
              "    .dataframe tbody tr th {\n",
              "        vertical-align: top;\n",
              "    }\n",
              "\n",
              "    .dataframe thead th {\n",
              "        text-align: right;\n",
              "    }\n",
              "</style>\n",
              "<table border=\"1\" class=\"dataframe\">\n",
              "  <thead>\n",
              "    <tr style=\"text-align: right;\">\n",
              "      <th></th>\n",
              "      <th>customer_ID</th>\n",
              "      <th>S_2</th>\n",
              "      <th>P_2</th>\n",
              "      <th>D_39</th>\n",
              "      <th>B_1</th>\n",
              "      <th>B_2</th>\n",
              "      <th>R_1</th>\n",
              "      <th>S_3</th>\n",
              "      <th>D_41</th>\n",
              "      <th>B_3</th>\n",
              "      <th>...</th>\n",
              "      <th>D_137</th>\n",
              "      <th>D_138</th>\n",
              "      <th>D_139</th>\n",
              "      <th>D_140</th>\n",
              "      <th>D_141</th>\n",
              "      <th>D_142</th>\n",
              "      <th>D_143</th>\n",
              "      <th>D_144</th>\n",
              "      <th>D_145</th>\n",
              "      <th>target</th>\n",
              "    </tr>\n",
              "  </thead>\n",
              "  <tbody>\n",
              "    <tr>\n",
              "      <th>0</th>\n",
              "      <td>000adf2938f771f75a581b65107024eddeae70684778c0...</td>\n",
              "      <td>2017-04-25</td>\n",
              "      <td>0.885999</td>\n",
              "      <td>0.009377</td>\n",
              "      <td>0.008894</td>\n",
              "      <td>1.006219</td>\n",
              "      <td>0.008716</td>\n",
              "      <td>0.065198</td>\n",
              "      <td>0.001650</td>\n",
              "      <td>0.009946</td>\n",
              "      <td>...</td>\n",
              "      <td>NaN</td>\n",
              "      <td>NaN</td>\n",
              "      <td>0.001505</td>\n",
              "      <td>0.009169</td>\n",
              "      <td>0.009822</td>\n",
              "      <td>NaN</td>\n",
              "      <td>0.004713</td>\n",
              "      <td>0.002896</td>\n",
              "      <td>0.002524</td>\n",
              "      <td>0</td>\n",
              "    </tr>\n",
              "    <tr>\n",
              "      <th>1</th>\n",
              "      <td>001a152e1893ab8372e7c9627c9de2e024399f2660d5d8...</td>\n",
              "      <td>2017-11-10</td>\n",
              "      <td>0.750890</td>\n",
              "      <td>0.037378</td>\n",
              "      <td>0.045959</td>\n",
              "      <td>1.001278</td>\n",
              "      <td>0.000312</td>\n",
              "      <td>0.087636</td>\n",
              "      <td>0.004212</td>\n",
              "      <td>0.001730</td>\n",
              "      <td>...</td>\n",
              "      <td>NaN</td>\n",
              "      <td>NaN</td>\n",
              "      <td>0.006351</td>\n",
              "      <td>0.001419</td>\n",
              "      <td>0.004957</td>\n",
              "      <td>NaN</td>\n",
              "      <td>0.001577</td>\n",
              "      <td>0.004017</td>\n",
              "      <td>0.007144</td>\n",
              "      <td>0</td>\n",
              "    </tr>\n",
              "    <tr>\n",
              "      <th>2</th>\n",
              "      <td>001e2ceaf1421f1477c0de9ba1c9357b9d278f7b670ab7...</td>\n",
              "      <td>2018-03-26</td>\n",
              "      <td>0.607227</td>\n",
              "      <td>0.002678</td>\n",
              "      <td>0.001271</td>\n",
              "      <td>0.812964</td>\n",
              "      <td>0.005415</td>\n",
              "      <td>NaN</td>\n",
              "      <td>0.005049</td>\n",
              "      <td>0.006548</td>\n",
              "      <td>...</td>\n",
              "      <td>NaN</td>\n",
              "      <td>NaN</td>\n",
              "      <td>0.008643</td>\n",
              "      <td>0.007299</td>\n",
              "      <td>0.000205</td>\n",
              "      <td>NaN</td>\n",
              "      <td>0.006518</td>\n",
              "      <td>0.008823</td>\n",
              "      <td>0.002062</td>\n",
              "      <td>1</td>\n",
              "    </tr>\n",
              "    <tr>\n",
              "      <th>3</th>\n",
              "      <td>0034f7e366a41d2500643c7dd0faa6302ce944743ccdf5...</td>\n",
              "      <td>2018-01-07</td>\n",
              "      <td>0.775546</td>\n",
              "      <td>0.003486</td>\n",
              "      <td>0.234352</td>\n",
              "      <td>0.040793</td>\n",
              "      <td>0.256024</td>\n",
              "      <td>0.172966</td>\n",
              "      <td>0.000081</td>\n",
              "      <td>0.225639</td>\n",
              "      <td>...</td>\n",
              "      <td>NaN</td>\n",
              "      <td>NaN</td>\n",
              "      <td>1.002720</td>\n",
              "      <td>0.008143</td>\n",
              "      <td>0.995023</td>\n",
              "      <td>0.626496</td>\n",
              "      <td>1.000037</td>\n",
              "      <td>0.671750</td>\n",
              "      <td>0.188801</td>\n",
              "      <td>0</td>\n",
              "    </tr>\n",
              "    <tr>\n",
              "      <th>4</th>\n",
              "      <td>00394e07aa3f71174f8bedfd16d64f194c80ad9445e17f...</td>\n",
              "      <td>2017-04-27</td>\n",
              "      <td>0.358659</td>\n",
              "      <td>0.001814</td>\n",
              "      <td>0.028545</td>\n",
              "      <td>1.004951</td>\n",
              "      <td>0.009079</td>\n",
              "      <td>0.765318</td>\n",
              "      <td>0.003546</td>\n",
              "      <td>0.009843</td>\n",
              "      <td>...</td>\n",
              "      <td>NaN</td>\n",
              "      <td>NaN</td>\n",
              "      <td>0.002115</td>\n",
              "      <td>0.004143</td>\n",
              "      <td>0.007057</td>\n",
              "      <td>NaN</td>\n",
              "      <td>0.004255</td>\n",
              "      <td>0.001370</td>\n",
              "      <td>0.007717</td>\n",
              "      <td>1</td>\n",
              "    </tr>\n",
              "  </tbody>\n",
              "</table>\n",
              "<p>5 rows × 191 columns</p>\n",
              "</div>\n",
              "    <div class=\"colab-df-buttons\">\n",
              "\n",
              "  <div class=\"colab-df-container\">\n",
              "    <button class=\"colab-df-convert\" onclick=\"convertToInteractive('df-1b0b897f-4f58-47da-8b29-d83c391a13e5')\"\n",
              "            title=\"Convert this dataframe to an interactive table.\"\n",
              "            style=\"display:none;\">\n",
              "\n",
              "  <svg xmlns=\"http://www.w3.org/2000/svg\" height=\"24px\" viewBox=\"0 -960 960 960\">\n",
              "    <path d=\"M120-120v-720h720v720H120Zm60-500h600v-160H180v160Zm220 220h160v-160H400v160Zm0 220h160v-160H400v160ZM180-400h160v-160H180v160Zm440 0h160v-160H620v160ZM180-180h160v-160H180v160Zm440 0h160v-160H620v160Z\"/>\n",
              "  </svg>\n",
              "    </button>\n",
              "\n",
              "  <style>\n",
              "    .colab-df-container {\n",
              "      display:flex;\n",
              "      gap: 12px;\n",
              "    }\n",
              "\n",
              "    .colab-df-convert {\n",
              "      background-color: #E8F0FE;\n",
              "      border: none;\n",
              "      border-radius: 50%;\n",
              "      cursor: pointer;\n",
              "      display: none;\n",
              "      fill: #1967D2;\n",
              "      height: 32px;\n",
              "      padding: 0 0 0 0;\n",
              "      width: 32px;\n",
              "    }\n",
              "\n",
              "    .colab-df-convert:hover {\n",
              "      background-color: #E2EBFA;\n",
              "      box-shadow: 0px 1px 2px rgba(60, 64, 67, 0.3), 0px 1px 3px 1px rgba(60, 64, 67, 0.15);\n",
              "      fill: #174EA6;\n",
              "    }\n",
              "\n",
              "    .colab-df-buttons div {\n",
              "      margin-bottom: 4px;\n",
              "    }\n",
              "\n",
              "    [theme=dark] .colab-df-convert {\n",
              "      background-color: #3B4455;\n",
              "      fill: #D2E3FC;\n",
              "    }\n",
              "\n",
              "    [theme=dark] .colab-df-convert:hover {\n",
              "      background-color: #434B5C;\n",
              "      box-shadow: 0px 1px 3px 1px rgba(0, 0, 0, 0.15);\n",
              "      filter: drop-shadow(0px 1px 2px rgba(0, 0, 0, 0.3));\n",
              "      fill: #FFFFFF;\n",
              "    }\n",
              "  </style>\n",
              "\n",
              "    <script>\n",
              "      const buttonEl =\n",
              "        document.querySelector('#df-1b0b897f-4f58-47da-8b29-d83c391a13e5 button.colab-df-convert');\n",
              "      buttonEl.style.display =\n",
              "        google.colab.kernel.accessAllowed ? 'block' : 'none';\n",
              "\n",
              "      async function convertToInteractive(key) {\n",
              "        const element = document.querySelector('#df-1b0b897f-4f58-47da-8b29-d83c391a13e5');\n",
              "        const dataTable =\n",
              "          await google.colab.kernel.invokeFunction('convertToInteractive',\n",
              "                                                    [key], {});\n",
              "        if (!dataTable) return;\n",
              "\n",
              "        const docLinkHtml = 'Like what you see? Visit the ' +\n",
              "          '<a target=\"_blank\" href=https://colab.research.google.com/notebooks/data_table.ipynb>data table notebook</a>'\n",
              "          + ' to learn more about interactive tables.';\n",
              "        element.innerHTML = '';\n",
              "        dataTable['output_type'] = 'display_data';\n",
              "        await google.colab.output.renderOutput(dataTable, element);\n",
              "        const docLink = document.createElement('div');\n",
              "        docLink.innerHTML = docLinkHtml;\n",
              "        element.appendChild(docLink);\n",
              "      }\n",
              "    </script>\n",
              "  </div>\n",
              "\n",
              "\n",
              "<div id=\"df-e193c720-4df1-489d-8073-d75a67d67be2\">\n",
              "  <button class=\"colab-df-quickchart\" onclick=\"quickchart('df-e193c720-4df1-489d-8073-d75a67d67be2')\"\n",
              "            title=\"Suggest charts\"\n",
              "            style=\"display:none;\">\n",
              "\n",
              "<svg xmlns=\"http://www.w3.org/2000/svg\" height=\"24px\"viewBox=\"0 0 24 24\"\n",
              "     width=\"24px\">\n",
              "    <g>\n",
              "        <path d=\"M19 3H5c-1.1 0-2 .9-2 2v14c0 1.1.9 2 2 2h14c1.1 0 2-.9 2-2V5c0-1.1-.9-2-2-2zM9 17H7v-7h2v7zm4 0h-2V7h2v10zm4 0h-2v-4h2v4z\"/>\n",
              "    </g>\n",
              "</svg>\n",
              "  </button>\n",
              "\n",
              "<style>\n",
              "  .colab-df-quickchart {\n",
              "      --bg-color: #E8F0FE;\n",
              "      --fill-color: #1967D2;\n",
              "      --hover-bg-color: #E2EBFA;\n",
              "      --hover-fill-color: #174EA6;\n",
              "      --disabled-fill-color: #AAA;\n",
              "      --disabled-bg-color: #DDD;\n",
              "  }\n",
              "\n",
              "  [theme=dark] .colab-df-quickchart {\n",
              "      --bg-color: #3B4455;\n",
              "      --fill-color: #D2E3FC;\n",
              "      --hover-bg-color: #434B5C;\n",
              "      --hover-fill-color: #FFFFFF;\n",
              "      --disabled-bg-color: #3B4455;\n",
              "      --disabled-fill-color: #666;\n",
              "  }\n",
              "\n",
              "  .colab-df-quickchart {\n",
              "    background-color: var(--bg-color);\n",
              "    border: none;\n",
              "    border-radius: 50%;\n",
              "    cursor: pointer;\n",
              "    display: none;\n",
              "    fill: var(--fill-color);\n",
              "    height: 32px;\n",
              "    padding: 0;\n",
              "    width: 32px;\n",
              "  }\n",
              "\n",
              "  .colab-df-quickchart:hover {\n",
              "    background-color: var(--hover-bg-color);\n",
              "    box-shadow: 0 1px 2px rgba(60, 64, 67, 0.3), 0 1px 3px 1px rgba(60, 64, 67, 0.15);\n",
              "    fill: var(--button-hover-fill-color);\n",
              "  }\n",
              "\n",
              "  .colab-df-quickchart-complete:disabled,\n",
              "  .colab-df-quickchart-complete:disabled:hover {\n",
              "    background-color: var(--disabled-bg-color);\n",
              "    fill: var(--disabled-fill-color);\n",
              "    box-shadow: none;\n",
              "  }\n",
              "\n",
              "  .colab-df-spinner {\n",
              "    border: 2px solid var(--fill-color);\n",
              "    border-color: transparent;\n",
              "    border-bottom-color: var(--fill-color);\n",
              "    animation:\n",
              "      spin 1s steps(1) infinite;\n",
              "  }\n",
              "\n",
              "  @keyframes spin {\n",
              "    0% {\n",
              "      border-color: transparent;\n",
              "      border-bottom-color: var(--fill-color);\n",
              "      border-left-color: var(--fill-color);\n",
              "    }\n",
              "    20% {\n",
              "      border-color: transparent;\n",
              "      border-left-color: var(--fill-color);\n",
              "      border-top-color: var(--fill-color);\n",
              "    }\n",
              "    30% {\n",
              "      border-color: transparent;\n",
              "      border-left-color: var(--fill-color);\n",
              "      border-top-color: var(--fill-color);\n",
              "      border-right-color: var(--fill-color);\n",
              "    }\n",
              "    40% {\n",
              "      border-color: transparent;\n",
              "      border-right-color: var(--fill-color);\n",
              "      border-top-color: var(--fill-color);\n",
              "    }\n",
              "    60% {\n",
              "      border-color: transparent;\n",
              "      border-right-color: var(--fill-color);\n",
              "    }\n",
              "    80% {\n",
              "      border-color: transparent;\n",
              "      border-right-color: var(--fill-color);\n",
              "      border-bottom-color: var(--fill-color);\n",
              "    }\n",
              "    90% {\n",
              "      border-color: transparent;\n",
              "      border-bottom-color: var(--fill-color);\n",
              "    }\n",
              "  }\n",
              "</style>\n",
              "\n",
              "  <script>\n",
              "    async function quickchart(key) {\n",
              "      const quickchartButtonEl =\n",
              "        document.querySelector('#' + key + ' button');\n",
              "      quickchartButtonEl.disabled = true;  // To prevent multiple clicks.\n",
              "      quickchartButtonEl.classList.add('colab-df-spinner');\n",
              "      try {\n",
              "        const charts = await google.colab.kernel.invokeFunction(\n",
              "            'suggestCharts', [key], {});\n",
              "      } catch (error) {\n",
              "        console.error('Error during call to suggestCharts:', error);\n",
              "      }\n",
              "      quickchartButtonEl.classList.remove('colab-df-spinner');\n",
              "      quickchartButtonEl.classList.add('colab-df-quickchart-complete');\n",
              "    }\n",
              "    (() => {\n",
              "      let quickchartButtonEl =\n",
              "        document.querySelector('#df-e193c720-4df1-489d-8073-d75a67d67be2 button');\n",
              "      quickchartButtonEl.style.display =\n",
              "        google.colab.kernel.accessAllowed ? 'block' : 'none';\n",
              "    })();\n",
              "  </script>\n",
              "</div>\n",
              "    </div>\n",
              "  </div>\n"
            ],
            "text/plain": [
              "                                         customer_ID         S_2       P_2  \\\n",
              "0  000adf2938f771f75a581b65107024eddeae70684778c0...  2017-04-25  0.885999   \n",
              "1  001a152e1893ab8372e7c9627c9de2e024399f2660d5d8...  2017-11-10  0.750890   \n",
              "2  001e2ceaf1421f1477c0de9ba1c9357b9d278f7b670ab7...  2018-03-26  0.607227   \n",
              "3  0034f7e366a41d2500643c7dd0faa6302ce944743ccdf5...  2018-01-07  0.775546   \n",
              "4  00394e07aa3f71174f8bedfd16d64f194c80ad9445e17f...  2017-04-27  0.358659   \n",
              "\n",
              "       D_39       B_1       B_2       R_1       S_3      D_41       B_3  ...  \\\n",
              "0  0.009377  0.008894  1.006219  0.008716  0.065198  0.001650  0.009946  ...   \n",
              "1  0.037378  0.045959  1.001278  0.000312  0.087636  0.004212  0.001730  ...   \n",
              "2  0.002678  0.001271  0.812964  0.005415       NaN  0.005049  0.006548  ...   \n",
              "3  0.003486  0.234352  0.040793  0.256024  0.172966  0.000081  0.225639  ...   \n",
              "4  0.001814  0.028545  1.004951  0.009079  0.765318  0.003546  0.009843  ...   \n",
              "\n",
              "   D_137  D_138     D_139     D_140     D_141     D_142     D_143     D_144  \\\n",
              "0    NaN    NaN  0.001505  0.009169  0.009822       NaN  0.004713  0.002896   \n",
              "1    NaN    NaN  0.006351  0.001419  0.004957       NaN  0.001577  0.004017   \n",
              "2    NaN    NaN  0.008643  0.007299  0.000205       NaN  0.006518  0.008823   \n",
              "3    NaN    NaN  1.002720  0.008143  0.995023  0.626496  1.000037  0.671750   \n",
              "4    NaN    NaN  0.002115  0.004143  0.007057       NaN  0.004255  0.001370   \n",
              "\n",
              "      D_145  target  \n",
              "0  0.002524       0  \n",
              "1  0.007144       0  \n",
              "2  0.002062       1  \n",
              "3  0.188801       0  \n",
              "4  0.007717       1  \n",
              "\n",
              "[5 rows x 191 columns]"
            ]
          },
          "execution_count": 40,
          "metadata": {},
          "output_type": "execute_result"
        }
      ],
      "source": [
        "df = pd.read_csv('data_full.txt', sep='\\t')\n",
        "df.head()"
      ]
    },
    {
      "cell_type": "markdown",
      "id": "546827c9",
      "metadata": {
        "id": "546827c9"
      },
      "source": [
        "---"
      ]
    },
    {
      "cell_type": "markdown",
      "id": "be4bc400",
      "metadata": {
        "id": "be4bc400"
      },
      "source": [
        "#### Miremos como está distribuido el DF, para ver cuantas variables categóricas tiene y que otros datos se pueden rescatar.\n",
        "Buscamos que columnas son categóricas (Object) y procedemos a llenar sus campos faltantes con el dato anterior, según el DF estas deberían de ser:\n",
        "**['B_30', 'B_38', 'D_114', 'D_116', 'D_117', 'D_120', 'D_126', 'D_63', 'D_64', 'D_66', 'D_68']**\n",
        "pero solo dos de ellas no son numéricas, así que las dejaremos igual y solo aplicaremos la transformación a las de tipo objeto\n",
        "Como las faltantes pertenecen al grupo **D_** procedemos a completarlas con la **moda**."
      ]
    },
    {
      "cell_type": "markdown",
      "id": "9b47d4d3",
      "metadata": {
        "id": "9b47d4d3"
      },
      "source": [
        "  "
      ]
    },
    {
      "cell_type": "code",
      "execution_count": null,
      "id": "5f41c41f",
      "metadata": {
        "colab": {
          "base_uri": "https://localhost:8080/"
        },
        "id": "5f41c41f",
        "outputId": "dbc0d0be-e5dd-40e3-caf9-672cb31b01d6"
      },
      "outputs": [
        {
          "name": "stdout",
          "output_type": "stream",
          "text": [
            "<class 'pandas.core.frame.DataFrame'>\n",
            "RangeIndex: 6041 entries, 0 to 6040\n",
            "Columns: 191 entries, customer_ID to target\n",
            "dtypes: float64(185), int64(2), object(4)\n",
            "memory usage: 8.8+ MB\n"
          ]
        }
      ],
      "source": [
        "df.info()"
      ]
    },
    {
      "cell_type": "code",
      "execution_count": null,
      "id": "7ac2e420",
      "metadata": {
        "colab": {
          "base_uri": "https://localhost:8080/"
        },
        "id": "7ac2e420",
        "outputId": "bb65e423-cf82-4522-c52f-d7688203bd53"
      },
      "outputs": [
        {
          "name": "stdout",
          "output_type": "stream",
          "text": [
            "['customer_ID', 'S_2', 'D_63', 'D_64']\n"
          ]
        }
      ],
      "source": [
        "column =  df.select_dtypes(include=['object']).columns.to_list()\n",
        "sub_df = df[column]\n",
        "print(column)"
      ]
    },
    {
      "cell_type": "code",
      "execution_count": null,
      "id": "f3d40d00",
      "metadata": {
        "colab": {
          "base_uri": "https://localhost:8080/"
        },
        "id": "f3d40d00",
        "outputId": "b64a240f-41a2-4ea7-8b65-913b2e00e4ae"
      },
      "outputs": [
        {
          "data": {
            "text/plain": [
              "customer_ID      0\n",
              "S_2              0\n",
              "D_63             0\n",
              "D_64           232\n",
              "dtype: int64"
            ]
          },
          "execution_count": 43,
          "metadata": {},
          "output_type": "execute_result"
        }
      ],
      "source": [
        "sub_df.isna().sum()"
      ]
    },
    {
      "cell_type": "code",
      "execution_count": null,
      "id": "81a22fc8",
      "metadata": {
        "colab": {
          "base_uri": "https://localhost:8080/",
          "height": 35
        },
        "id": "81a22fc8",
        "outputId": "ddfff76c-efac-4209-c1c6-5df08b175569"
      },
      "outputs": [
        {
          "data": {
            "application/vnd.google.colaboratory.intrinsic+json": {
              "type": "string"
            },
            "text/plain": [
              "'O'"
            ]
          },
          "execution_count": 44,
          "metadata": {},
          "output_type": "execute_result"
        }
      ],
      "source": [
        "df['D_64'].mode()[0]"
      ]
    },
    {
      "cell_type": "code",
      "execution_count": null,
      "id": "c49da07e",
      "metadata": {
        "colab": {
          "base_uri": "https://localhost:8080/"
        },
        "id": "c49da07e",
        "outputId": "8de7aba9-65a0-460d-b766-6546fdc1ba40"
      },
      "outputs": [
        {
          "data": {
            "text/plain": [
              "customer_ID    0\n",
              "S_2            0\n",
              "D_63           0\n",
              "D_64           0\n",
              "dtype: int64"
            ]
          },
          "execution_count": 45,
          "metadata": {},
          "output_type": "execute_result"
        }
      ],
      "source": [
        "df['D_64'].fillna(df['D_64'].mode()[0], inplace=True)\n",
        "sub_df = df[column]\n",
        "sub_df.isna().sum()"
      ]
    },
    {
      "cell_type": "markdown",
      "id": "881064c0",
      "metadata": {
        "id": "881064c0"
      },
      "source": [
        "---\n",
        "De las 4 columnas S_2 es una fecha, por lo tanto, no se tiene en cuenta, lo vamos a transformar como tal y customer_ID  es el ID único, en consecuencia tampoco, solo nos queda D_63 y D_64 viendo un poco más su contenido nos queda que son  Categóricas Nominales como resultado utilizaremos One-Hot Encoding para hacer su transformación, renombraremos el D_64-1 por D_64_I por comodidad"
      ]
    },
    {
      "cell_type": "markdown",
      "id": "104ca592",
      "metadata": {
        "id": "104ca592"
      },
      "source": [
        "  "
      ]
    },
    {
      "cell_type": "code",
      "execution_count": null,
      "id": "ef355043",
      "metadata": {
        "id": "ef355043"
      },
      "outputs": [],
      "source": [
        "df['S_2'] = pd.to_datetime(df['S_2'])"
      ]
    },
    {
      "cell_type": "code",
      "execution_count": null,
      "id": "20cabaf3",
      "metadata": {
        "colab": {
          "base_uri": "https://localhost:8080/"
        },
        "id": "20cabaf3",
        "outputId": "dc044a5b-dbf9-4223-ad5a-99802c79830a"
      },
      "outputs": [
        {
          "data": {
            "text/plain": [
              "CO    4496\n",
              "CR     999\n",
              "CL     492\n",
              "XZ      35\n",
              "XM      12\n",
              "XL       7\n",
              "Name: D_63, dtype: int64"
            ]
          },
          "execution_count": 47,
          "metadata": {},
          "output_type": "execute_result"
        }
      ],
      "source": [
        "df['D_63'].value_counts()"
      ]
    },
    {
      "cell_type": "code",
      "execution_count": null,
      "id": "132d89b4",
      "metadata": {
        "colab": {
          "base_uri": "https://localhost:8080/"
        },
        "id": "132d89b4",
        "outputId": "96b59fc3-9e5a-48ae-aaac-5c003774edd2"
      },
      "outputs": [
        {
          "data": {
            "text/plain": [
              "O     3422\n",
              "U     1694\n",
              "R      889\n",
              "-1      36\n",
              "Name: D_64, dtype: int64"
            ]
          },
          "execution_count": 48,
          "metadata": {},
          "output_type": "execute_result"
        }
      ],
      "source": [
        "df['D_64'].value_counts()"
      ]
    },
    {
      "cell_type": "code",
      "execution_count": null,
      "id": "5e5b26be",
      "metadata": {
        "id": "5e5b26be"
      },
      "outputs": [],
      "source": [
        "df = pd.get_dummies(df, columns=['D_63', 'D_64'])"
      ]
    },
    {
      "cell_type": "code",
      "execution_count": null,
      "id": "6977f6dd",
      "metadata": {
        "id": "6977f6dd"
      },
      "outputs": [],
      "source": [
        "df.rename(columns={'D_64_-1': 'D_64_I'}, inplace=True)"
      ]
    },
    {
      "cell_type": "code",
      "execution_count": null,
      "id": "e8386698",
      "metadata": {
        "colab": {
          "base_uri": "https://localhost:8080/",
          "height": 424
        },
        "id": "e8386698",
        "outputId": "2cc27c84-7ca6-4453-a988-1bef1639786e",
        "scrolled": false
      },
      "outputs": [
        {
          "data": {
            "application/vnd.google.colaboratory.intrinsic+json": {
              "summary": "{\n  \"name\": \"    'D_64_I', 'target']]\",\n  \"rows\": 6041,\n  \"fields\": [\n    {\n      \"column\": \"D_63_CO\",\n      \"properties\": {\n        \"dtype\": \"uint8\",\n        \"num_unique_values\": 2,\n        \"samples\": [\n          0,\n          1\n        ],\n        \"semantic_type\": \"\",\n        \"description\": \"\"\n      }\n    },\n    {\n      \"column\": \"D_63_CR\",\n      \"properties\": {\n        \"dtype\": \"uint8\",\n        \"num_unique_values\": 2,\n        \"samples\": [\n          1,\n          0\n        ],\n        \"semantic_type\": \"\",\n        \"description\": \"\"\n      }\n    },\n    {\n      \"column\": \"D_63_CL\",\n      \"properties\": {\n        \"dtype\": \"uint8\",\n        \"num_unique_values\": 2,\n        \"samples\": [\n          1,\n          0\n        ],\n        \"semantic_type\": \"\",\n        \"description\": \"\"\n      }\n    },\n    {\n      \"column\": \"D_63_XZ\",\n      \"properties\": {\n        \"dtype\": \"uint8\",\n        \"num_unique_values\": 2,\n        \"samples\": [\n          1,\n          0\n        ],\n        \"semantic_type\": \"\",\n        \"description\": \"\"\n      }\n    },\n    {\n      \"column\": \"D_63_XZ\",\n      \"properties\": {\n        \"dtype\": \"uint8\",\n        \"num_unique_values\": 2,\n        \"samples\": [\n          1,\n          0\n        ],\n        \"semantic_type\": \"\",\n        \"description\": \"\"\n      }\n    },\n    {\n      \"column\": \"D_63_XM\",\n      \"properties\": {\n        \"dtype\": \"uint8\",\n        \"num_unique_values\": 2,\n        \"samples\": [\n          1,\n          0\n        ],\n        \"semantic_type\": \"\",\n        \"description\": \"\"\n      }\n    },\n    {\n      \"column\": \"D_63_XL\",\n      \"properties\": {\n        \"dtype\": \"uint8\",\n        \"num_unique_values\": 2,\n        \"samples\": [\n          1,\n          0\n        ],\n        \"semantic_type\": \"\",\n        \"description\": \"\"\n      }\n    },\n    {\n      \"column\": \"D_64_O\",\n      \"properties\": {\n        \"dtype\": \"uint8\",\n        \"num_unique_values\": 2,\n        \"samples\": [\n          0,\n          1\n        ],\n        \"semantic_type\": \"\",\n        \"description\": \"\"\n      }\n    },\n    {\n      \"column\": \"D_64_U\",\n      \"properties\": {\n        \"dtype\": \"uint8\",\n        \"num_unique_values\": 2,\n        \"samples\": [\n          1,\n          0\n        ],\n        \"semantic_type\": \"\",\n        \"description\": \"\"\n      }\n    },\n    {\n      \"column\": \"D_64_R\",\n      \"properties\": {\n        \"dtype\": \"uint8\",\n        \"num_unique_values\": 2,\n        \"samples\": [\n          1,\n          0\n        ],\n        \"semantic_type\": \"\",\n        \"description\": \"\"\n      }\n    },\n    {\n      \"column\": \"D_64_I\",\n      \"properties\": {\n        \"dtype\": \"uint8\",\n        \"num_unique_values\": 2,\n        \"samples\": [\n          1,\n          0\n        ],\n        \"semantic_type\": \"\",\n        \"description\": \"\"\n      }\n    },\n    {\n      \"column\": \"target\",\n      \"properties\": {\n        \"dtype\": \"number\",\n        \"std\": 0,\n        \"min\": 0,\n        \"max\": 1,\n        \"num_unique_values\": 2,\n        \"samples\": [\n          1,\n          0\n        ],\n        \"semantic_type\": \"\",\n        \"description\": \"\"\n      }\n    }\n  ]\n}",
              "type": "dataframe"
            },
            "text/html": [
              "\n",
              "  <div id=\"df-c496aebd-b73d-4d1c-92a0-8077a5ca4592\" class=\"colab-df-container\">\n",
              "    <div>\n",
              "<style scoped>\n",
              "    .dataframe tbody tr th:only-of-type {\n",
              "        vertical-align: middle;\n",
              "    }\n",
              "\n",
              "    .dataframe tbody tr th {\n",
              "        vertical-align: top;\n",
              "    }\n",
              "\n",
              "    .dataframe thead th {\n",
              "        text-align: right;\n",
              "    }\n",
              "</style>\n",
              "<table border=\"1\" class=\"dataframe\">\n",
              "  <thead>\n",
              "    <tr style=\"text-align: right;\">\n",
              "      <th></th>\n",
              "      <th>D_63_CO</th>\n",
              "      <th>D_63_CR</th>\n",
              "      <th>D_63_CL</th>\n",
              "      <th>D_63_XZ</th>\n",
              "      <th>D_63_XZ</th>\n",
              "      <th>D_63_XM</th>\n",
              "      <th>D_63_XL</th>\n",
              "      <th>D_64_O</th>\n",
              "      <th>D_64_U</th>\n",
              "      <th>D_64_R</th>\n",
              "      <th>D_64_I</th>\n",
              "      <th>target</th>\n",
              "    </tr>\n",
              "  </thead>\n",
              "  <tbody>\n",
              "    <tr>\n",
              "      <th>0</th>\n",
              "      <td>1</td>\n",
              "      <td>0</td>\n",
              "      <td>0</td>\n",
              "      <td>0</td>\n",
              "      <td>0</td>\n",
              "      <td>0</td>\n",
              "      <td>0</td>\n",
              "      <td>1</td>\n",
              "      <td>0</td>\n",
              "      <td>0</td>\n",
              "      <td>0</td>\n",
              "      <td>0</td>\n",
              "    </tr>\n",
              "    <tr>\n",
              "      <th>1</th>\n",
              "      <td>1</td>\n",
              "      <td>0</td>\n",
              "      <td>0</td>\n",
              "      <td>0</td>\n",
              "      <td>0</td>\n",
              "      <td>0</td>\n",
              "      <td>0</td>\n",
              "      <td>0</td>\n",
              "      <td>1</td>\n",
              "      <td>0</td>\n",
              "      <td>0</td>\n",
              "      <td>0</td>\n",
              "    </tr>\n",
              "    <tr>\n",
              "      <th>2</th>\n",
              "      <td>1</td>\n",
              "      <td>0</td>\n",
              "      <td>0</td>\n",
              "      <td>0</td>\n",
              "      <td>0</td>\n",
              "      <td>0</td>\n",
              "      <td>0</td>\n",
              "      <td>1</td>\n",
              "      <td>0</td>\n",
              "      <td>0</td>\n",
              "      <td>0</td>\n",
              "      <td>1</td>\n",
              "    </tr>\n",
              "    <tr>\n",
              "      <th>3</th>\n",
              "      <td>1</td>\n",
              "      <td>0</td>\n",
              "      <td>0</td>\n",
              "      <td>0</td>\n",
              "      <td>0</td>\n",
              "      <td>0</td>\n",
              "      <td>0</td>\n",
              "      <td>1</td>\n",
              "      <td>0</td>\n",
              "      <td>0</td>\n",
              "      <td>0</td>\n",
              "      <td>0</td>\n",
              "    </tr>\n",
              "    <tr>\n",
              "      <th>4</th>\n",
              "      <td>0</td>\n",
              "      <td>0</td>\n",
              "      <td>1</td>\n",
              "      <td>0</td>\n",
              "      <td>0</td>\n",
              "      <td>0</td>\n",
              "      <td>0</td>\n",
              "      <td>1</td>\n",
              "      <td>0</td>\n",
              "      <td>0</td>\n",
              "      <td>0</td>\n",
              "      <td>1</td>\n",
              "    </tr>\n",
              "    <tr>\n",
              "      <th>...</th>\n",
              "      <td>...</td>\n",
              "      <td>...</td>\n",
              "      <td>...</td>\n",
              "      <td>...</td>\n",
              "      <td>...</td>\n",
              "      <td>...</td>\n",
              "      <td>...</td>\n",
              "      <td>...</td>\n",
              "      <td>...</td>\n",
              "      <td>...</td>\n",
              "      <td>...</td>\n",
              "      <td>...</td>\n",
              "    </tr>\n",
              "    <tr>\n",
              "      <th>6036</th>\n",
              "      <td>1</td>\n",
              "      <td>0</td>\n",
              "      <td>0</td>\n",
              "      <td>0</td>\n",
              "      <td>0</td>\n",
              "      <td>0</td>\n",
              "      <td>0</td>\n",
              "      <td>0</td>\n",
              "      <td>1</td>\n",
              "      <td>0</td>\n",
              "      <td>0</td>\n",
              "      <td>0</td>\n",
              "    </tr>\n",
              "    <tr>\n",
              "      <th>6037</th>\n",
              "      <td>1</td>\n",
              "      <td>0</td>\n",
              "      <td>0</td>\n",
              "      <td>0</td>\n",
              "      <td>0</td>\n",
              "      <td>0</td>\n",
              "      <td>0</td>\n",
              "      <td>0</td>\n",
              "      <td>1</td>\n",
              "      <td>0</td>\n",
              "      <td>0</td>\n",
              "      <td>1</td>\n",
              "    </tr>\n",
              "    <tr>\n",
              "      <th>6038</th>\n",
              "      <td>1</td>\n",
              "      <td>0</td>\n",
              "      <td>0</td>\n",
              "      <td>0</td>\n",
              "      <td>0</td>\n",
              "      <td>0</td>\n",
              "      <td>0</td>\n",
              "      <td>0</td>\n",
              "      <td>0</td>\n",
              "      <td>1</td>\n",
              "      <td>0</td>\n",
              "      <td>1</td>\n",
              "    </tr>\n",
              "    <tr>\n",
              "      <th>6039</th>\n",
              "      <td>1</td>\n",
              "      <td>0</td>\n",
              "      <td>0</td>\n",
              "      <td>0</td>\n",
              "      <td>0</td>\n",
              "      <td>0</td>\n",
              "      <td>0</td>\n",
              "      <td>0</td>\n",
              "      <td>1</td>\n",
              "      <td>0</td>\n",
              "      <td>0</td>\n",
              "      <td>0</td>\n",
              "    </tr>\n",
              "    <tr>\n",
              "      <th>6040</th>\n",
              "      <td>0</td>\n",
              "      <td>1</td>\n",
              "      <td>0</td>\n",
              "      <td>0</td>\n",
              "      <td>0</td>\n",
              "      <td>0</td>\n",
              "      <td>0</td>\n",
              "      <td>1</td>\n",
              "      <td>0</td>\n",
              "      <td>0</td>\n",
              "      <td>0</td>\n",
              "      <td>0</td>\n",
              "    </tr>\n",
              "  </tbody>\n",
              "</table>\n",
              "<p>6041 rows × 12 columns</p>\n",
              "</div>\n",
              "    <div class=\"colab-df-buttons\">\n",
              "\n",
              "  <div class=\"colab-df-container\">\n",
              "    <button class=\"colab-df-convert\" onclick=\"convertToInteractive('df-c496aebd-b73d-4d1c-92a0-8077a5ca4592')\"\n",
              "            title=\"Convert this dataframe to an interactive table.\"\n",
              "            style=\"display:none;\">\n",
              "\n",
              "  <svg xmlns=\"http://www.w3.org/2000/svg\" height=\"24px\" viewBox=\"0 -960 960 960\">\n",
              "    <path d=\"M120-120v-720h720v720H120Zm60-500h600v-160H180v160Zm220 220h160v-160H400v160Zm0 220h160v-160H400v160ZM180-400h160v-160H180v160Zm440 0h160v-160H620v160ZM180-180h160v-160H180v160Zm440 0h160v-160H620v160Z\"/>\n",
              "  </svg>\n",
              "    </button>\n",
              "\n",
              "  <style>\n",
              "    .colab-df-container {\n",
              "      display:flex;\n",
              "      gap: 12px;\n",
              "    }\n",
              "\n",
              "    .colab-df-convert {\n",
              "      background-color: #E8F0FE;\n",
              "      border: none;\n",
              "      border-radius: 50%;\n",
              "      cursor: pointer;\n",
              "      display: none;\n",
              "      fill: #1967D2;\n",
              "      height: 32px;\n",
              "      padding: 0 0 0 0;\n",
              "      width: 32px;\n",
              "    }\n",
              "\n",
              "    .colab-df-convert:hover {\n",
              "      background-color: #E2EBFA;\n",
              "      box-shadow: 0px 1px 2px rgba(60, 64, 67, 0.3), 0px 1px 3px 1px rgba(60, 64, 67, 0.15);\n",
              "      fill: #174EA6;\n",
              "    }\n",
              "\n",
              "    .colab-df-buttons div {\n",
              "      margin-bottom: 4px;\n",
              "    }\n",
              "\n",
              "    [theme=dark] .colab-df-convert {\n",
              "      background-color: #3B4455;\n",
              "      fill: #D2E3FC;\n",
              "    }\n",
              "\n",
              "    [theme=dark] .colab-df-convert:hover {\n",
              "      background-color: #434B5C;\n",
              "      box-shadow: 0px 1px 3px 1px rgba(0, 0, 0, 0.15);\n",
              "      filter: drop-shadow(0px 1px 2px rgba(0, 0, 0, 0.3));\n",
              "      fill: #FFFFFF;\n",
              "    }\n",
              "  </style>\n",
              "\n",
              "    <script>\n",
              "      const buttonEl =\n",
              "        document.querySelector('#df-c496aebd-b73d-4d1c-92a0-8077a5ca4592 button.colab-df-convert');\n",
              "      buttonEl.style.display =\n",
              "        google.colab.kernel.accessAllowed ? 'block' : 'none';\n",
              "\n",
              "      async function convertToInteractive(key) {\n",
              "        const element = document.querySelector('#df-c496aebd-b73d-4d1c-92a0-8077a5ca4592');\n",
              "        const dataTable =\n",
              "          await google.colab.kernel.invokeFunction('convertToInteractive',\n",
              "                                                    [key], {});\n",
              "        if (!dataTable) return;\n",
              "\n",
              "        const docLinkHtml = 'Like what you see? Visit the ' +\n",
              "          '<a target=\"_blank\" href=https://colab.research.google.com/notebooks/data_table.ipynb>data table notebook</a>'\n",
              "          + ' to learn more about interactive tables.';\n",
              "        element.innerHTML = '';\n",
              "        dataTable['output_type'] = 'display_data';\n",
              "        await google.colab.output.renderOutput(dataTable, element);\n",
              "        const docLink = document.createElement('div');\n",
              "        docLink.innerHTML = docLinkHtml;\n",
              "        element.appendChild(docLink);\n",
              "      }\n",
              "    </script>\n",
              "  </div>\n",
              "\n",
              "\n",
              "<div id=\"df-e7b67f6e-757b-4ae3-af98-4dc3d9a2be3c\">\n",
              "  <button class=\"colab-df-quickchart\" onclick=\"quickchart('df-e7b67f6e-757b-4ae3-af98-4dc3d9a2be3c')\"\n",
              "            title=\"Suggest charts\"\n",
              "            style=\"display:none;\">\n",
              "\n",
              "<svg xmlns=\"http://www.w3.org/2000/svg\" height=\"24px\"viewBox=\"0 0 24 24\"\n",
              "     width=\"24px\">\n",
              "    <g>\n",
              "        <path d=\"M19 3H5c-1.1 0-2 .9-2 2v14c0 1.1.9 2 2 2h14c1.1 0 2-.9 2-2V5c0-1.1-.9-2-2-2zM9 17H7v-7h2v7zm4 0h-2V7h2v10zm4 0h-2v-4h2v4z\"/>\n",
              "    </g>\n",
              "</svg>\n",
              "  </button>\n",
              "\n",
              "<style>\n",
              "  .colab-df-quickchart {\n",
              "      --bg-color: #E8F0FE;\n",
              "      --fill-color: #1967D2;\n",
              "      --hover-bg-color: #E2EBFA;\n",
              "      --hover-fill-color: #174EA6;\n",
              "      --disabled-fill-color: #AAA;\n",
              "      --disabled-bg-color: #DDD;\n",
              "  }\n",
              "\n",
              "  [theme=dark] .colab-df-quickchart {\n",
              "      --bg-color: #3B4455;\n",
              "      --fill-color: #D2E3FC;\n",
              "      --hover-bg-color: #434B5C;\n",
              "      --hover-fill-color: #FFFFFF;\n",
              "      --disabled-bg-color: #3B4455;\n",
              "      --disabled-fill-color: #666;\n",
              "  }\n",
              "\n",
              "  .colab-df-quickchart {\n",
              "    background-color: var(--bg-color);\n",
              "    border: none;\n",
              "    border-radius: 50%;\n",
              "    cursor: pointer;\n",
              "    display: none;\n",
              "    fill: var(--fill-color);\n",
              "    height: 32px;\n",
              "    padding: 0;\n",
              "    width: 32px;\n",
              "  }\n",
              "\n",
              "  .colab-df-quickchart:hover {\n",
              "    background-color: var(--hover-bg-color);\n",
              "    box-shadow: 0 1px 2px rgba(60, 64, 67, 0.3), 0 1px 3px 1px rgba(60, 64, 67, 0.15);\n",
              "    fill: var(--button-hover-fill-color);\n",
              "  }\n",
              "\n",
              "  .colab-df-quickchart-complete:disabled,\n",
              "  .colab-df-quickchart-complete:disabled:hover {\n",
              "    background-color: var(--disabled-bg-color);\n",
              "    fill: var(--disabled-fill-color);\n",
              "    box-shadow: none;\n",
              "  }\n",
              "\n",
              "  .colab-df-spinner {\n",
              "    border: 2px solid var(--fill-color);\n",
              "    border-color: transparent;\n",
              "    border-bottom-color: var(--fill-color);\n",
              "    animation:\n",
              "      spin 1s steps(1) infinite;\n",
              "  }\n",
              "\n",
              "  @keyframes spin {\n",
              "    0% {\n",
              "      border-color: transparent;\n",
              "      border-bottom-color: var(--fill-color);\n",
              "      border-left-color: var(--fill-color);\n",
              "    }\n",
              "    20% {\n",
              "      border-color: transparent;\n",
              "      border-left-color: var(--fill-color);\n",
              "      border-top-color: var(--fill-color);\n",
              "    }\n",
              "    30% {\n",
              "      border-color: transparent;\n",
              "      border-left-color: var(--fill-color);\n",
              "      border-top-color: var(--fill-color);\n",
              "      border-right-color: var(--fill-color);\n",
              "    }\n",
              "    40% {\n",
              "      border-color: transparent;\n",
              "      border-right-color: var(--fill-color);\n",
              "      border-top-color: var(--fill-color);\n",
              "    }\n",
              "    60% {\n",
              "      border-color: transparent;\n",
              "      border-right-color: var(--fill-color);\n",
              "    }\n",
              "    80% {\n",
              "      border-color: transparent;\n",
              "      border-right-color: var(--fill-color);\n",
              "      border-bottom-color: var(--fill-color);\n",
              "    }\n",
              "    90% {\n",
              "      border-color: transparent;\n",
              "      border-bottom-color: var(--fill-color);\n",
              "    }\n",
              "  }\n",
              "</style>\n",
              "\n",
              "  <script>\n",
              "    async function quickchart(key) {\n",
              "      const quickchartButtonEl =\n",
              "        document.querySelector('#' + key + ' button');\n",
              "      quickchartButtonEl.disabled = true;  // To prevent multiple clicks.\n",
              "      quickchartButtonEl.classList.add('colab-df-spinner');\n",
              "      try {\n",
              "        const charts = await google.colab.kernel.invokeFunction(\n",
              "            'suggestCharts', [key], {});\n",
              "      } catch (error) {\n",
              "        console.error('Error during call to suggestCharts:', error);\n",
              "      }\n",
              "      quickchartButtonEl.classList.remove('colab-df-spinner');\n",
              "      quickchartButtonEl.classList.add('colab-df-quickchart-complete');\n",
              "    }\n",
              "    (() => {\n",
              "      let quickchartButtonEl =\n",
              "        document.querySelector('#df-e7b67f6e-757b-4ae3-af98-4dc3d9a2be3c button');\n",
              "      quickchartButtonEl.style.display =\n",
              "        google.colab.kernel.accessAllowed ? 'block' : 'none';\n",
              "    })();\n",
              "  </script>\n",
              "</div>\n",
              "    </div>\n",
              "  </div>\n"
            ],
            "text/plain": [
              "      D_63_CO  D_63_CR  D_63_CL  D_63_XZ  D_63_XZ  D_63_XM  D_63_XL  D_64_O  \\\n",
              "0           1        0        0        0        0        0        0       1   \n",
              "1           1        0        0        0        0        0        0       0   \n",
              "2           1        0        0        0        0        0        0       1   \n",
              "3           1        0        0        0        0        0        0       1   \n",
              "4           0        0        1        0        0        0        0       1   \n",
              "...       ...      ...      ...      ...      ...      ...      ...     ...   \n",
              "6036        1        0        0        0        0        0        0       0   \n",
              "6037        1        0        0        0        0        0        0       0   \n",
              "6038        1        0        0        0        0        0        0       0   \n",
              "6039        1        0        0        0        0        0        0       0   \n",
              "6040        0        1        0        0        0        0        0       1   \n",
              "\n",
              "      D_64_U  D_64_R  D_64_I  target  \n",
              "0          0       0       0       0  \n",
              "1          1       0       0       0  \n",
              "2          0       0       0       1  \n",
              "3          0       0       0       0  \n",
              "4          0       0       0       1  \n",
              "...      ...     ...     ...     ...  \n",
              "6036       1       0       0       0  \n",
              "6037       1       0       0       1  \n",
              "6038       0       1       0       1  \n",
              "6039       1       0       0       0  \n",
              "6040       0       0       0       0  \n",
              "\n",
              "[6041 rows x 12 columns]"
            ]
          },
          "execution_count": 51,
          "metadata": {},
          "output_type": "execute_result"
        }
      ],
      "source": [
        "df[['D_63_CO', 'D_63_CR', 'D_63_CL', 'D_63_XZ', 'D_63_XZ', 'D_63_XM', 'D_63_XL', 'D_64_O', 'D_64_U', 'D_64_R',\n",
        "    'D_64_I', 'target']]"
      ]
    },
    {
      "cell_type": "code",
      "execution_count": null,
      "id": "7f0ac8f5",
      "metadata": {
        "id": "7f0ac8f5"
      },
      "outputs": [],
      "source": [
        "def completar_na(sub_df):\n",
        "    for colum in sub_df.columns:\n",
        "        df[colum].fillna(df[colum].mode()[0], inplace=True)"
      ]
    },
    {
      "cell_type": "markdown",
      "id": "78db8f85",
      "metadata": {
        "id": "78db8f85"
      },
      "source": [
        "---\n",
        "Prosigamos con el resto de categóricas con la **moda**.\n",
        "**['B_30', 'B_38', 'D_114', 'D_116', 'D_117', 'D_120', 'D_126', 'D_66', 'D_68']**\n",
        "Dado que se presentan valores atípicos"
      ]
    },
    {
      "cell_type": "markdown",
      "id": "a41b4328",
      "metadata": {
        "id": "a41b4328"
      },
      "source": [
        "  "
      ]
    },
    {
      "cell_type": "code",
      "execution_count": null,
      "id": "0ba06c9e",
      "metadata": {
        "id": "0ba06c9e"
      },
      "outputs": [],
      "source": [
        "category = ['B_30', 'B_38', 'D_114', 'D_116', 'D_117', 'D_120', 'D_126', 'D_66', 'D_68']"
      ]
    },
    {
      "cell_type": "code",
      "execution_count": null,
      "id": "9eec6c8e",
      "metadata": {
        "colab": {
          "base_uri": "https://localhost:8080/",
          "height": 565
        },
        "id": "9eec6c8e",
        "outputId": "c2d8d5c5-38b8-4115-d656-76c7a6f00d93"
      },
      "outputs": [
        {
          "data": {
            "image/png": "[encoded data removed]",
            "text/plain": [
              "<Figure size 1000x600 with 1 Axes>"
            ]
          },
          "metadata": {},
          "output_type": "display_data"
        }
      ],
      "source": [
        "columnas_C = df[category]\n",
        "\n",
        "plt.figure(figsize=(10, 6))\n",
        "sns.boxplot(data=columnas_C, orient='v')\n",
        "plt.title('Gráfico de Caja para Columnas Categoricas')\n",
        "plt.ylabel('Valores')\n",
        "plt.xlabel('columna')\n",
        "plt.show()"
      ]
    },
    {
      "cell_type": "code",
      "execution_count": null,
      "id": "c92ae70a",
      "metadata": {
        "colab": {
          "base_uri": "https://localhost:8080/"
        },
        "id": "c92ae70a",
        "outputId": "41894c7d-3f5a-4791-9df4-2db634ba89a4",
        "scrolled": true
      },
      "outputs": [
        {
          "data": {
            "text/plain": [
              "B_30        3\n",
              "B_38        3\n",
              "D_114     183\n",
              "D_116     183\n",
              "D_117     183\n",
              "D_120     183\n",
              "D_126     115\n",
              "D_66     5383\n",
              "D_68      228\n",
              "dtype: int64"
            ]
          },
          "execution_count": 55,
          "metadata": {},
          "output_type": "execute_result"
        }
      ],
      "source": [
        "sub_df = df[category]\n",
        "sub_df.isna().sum()"
      ]
    },
    {
      "cell_type": "code",
      "execution_count": null,
      "id": "45d29aa2",
      "metadata": {
        "colab": {
          "base_uri": "https://localhost:8080/"
        },
        "id": "45d29aa2",
        "outputId": "865387b1-a69e-4bda-c068-bf59cf94afbb",
        "scrolled": true
      },
      "outputs": [
        {
          "data": {
            "text/plain": [
              "B_30     0\n",
              "B_38     0\n",
              "D_114    0\n",
              "D_116    0\n",
              "D_117    0\n",
              "D_120    0\n",
              "D_126    0\n",
              "D_66     0\n",
              "D_68     0\n",
              "dtype: int64"
            ]
          },
          "execution_count": 56,
          "metadata": {},
          "output_type": "execute_result"
        }
      ],
      "source": [
        "completar_na(sub_df)\n",
        "\n",
        "sub_df = df[category]\n",
        "sub_df.isna().sum()"
      ]
    },
    {
      "cell_type": "markdown",
      "id": "e42fb323",
      "metadata": {
        "id": "e42fb323"
      },
      "source": [
        "---\n",
        "Ahora analicemos el resto de los grupos faltantes:\n",
        "\n",
        "### S_*"
      ]
    },
    {
      "cell_type": "code",
      "execution_count": null,
      "id": "87faf81b",
      "metadata": {
        "colab": {
          "base_uri": "https://localhost:8080/"
        },
        "id": "87faf81b",
        "outputId": "f47d7c40-8b8a-4e89-8e18-f7a4dfa07ad4"
      },
      "outputs": [
        {
          "data": {
            "text/plain": [
              "S_3     1167\n",
              "S_7     1167\n",
              "S_9     3226\n",
              "S_22      28\n",
              "S_23       1\n",
              "S_24      27\n",
              "S_25      16\n",
              "S_26       1\n",
              "S_27    1579\n",
              "dtype: int64"
            ]
          },
          "execution_count": 57,
          "metadata": {},
          "output_type": "execute_result"
        }
      ],
      "source": [
        "columnas_S = df.filter(like='S_').drop('S_2', axis=1)\n",
        "\n",
        "sub_df = df[columnas_S.columns].loc[:, df[columnas_S.columns].isna().any()]\n",
        "sub_df.isna().sum()"
      ]
    },
    {
      "cell_type": "code",
      "execution_count": null,
      "id": "5ab09ba9",
      "metadata": {
        "colab": {
          "base_uri": "https://localhost:8080/",
          "height": 581
        },
        "id": "5ab09ba9",
        "outputId": "6c7c4203-bfa5-4ab8-c2ce-2866ad3d3571",
        "scrolled": false
      },
      "outputs": [
        {
          "data": {
            "text/plain": [
              "<Figure size 1000x600 with 0 Axes>"
            ]
          },
          "metadata": {},
          "output_type": "display_data"
        },
        {
          "data": {
            "image/png": "[encoded data removed]",
            "text/plain": [
              "<Figure size 500x500 with 1 Axes>"
            ]
          },
          "metadata": {},
          "output_type": "display_data"
        }
      ],
      "source": [
        "plt.figure(figsize=(10, 6))  # Ajusta el tamaño de la figura\n",
        "\n",
        "sns.catplot(data = sub_df)\n",
        "plt.title('Gráfico de barras para la Columnas S_*')\n",
        "plt.ylabel('Valores')\n",
        "plt.xlabel('Columnas')\n",
        "plt.xticks(rotation=45)  # Rota los nombres de las columnas si es necesario\n",
        "plt.show()"
      ]
    },
    {
      "cell_type": "code",
      "execution_count": null,
      "id": "ec0ae283",
      "metadata": {
        "id": "ec0ae283"
      },
      "outputs": [],
      "source": [
        "completar_na(sub_df)"
      ]
    },
    {
      "cell_type": "markdown",
      "id": "47bfc5b7",
      "metadata": {
        "id": "47bfc5b7"
      },
      "source": [
        "### D_*"
      ]
    },
    {
      "cell_type": "code",
      "execution_count": null,
      "id": "e3c0ee4e",
      "metadata": {
        "colab": {
          "base_uri": "https://localhost:8080/"
        },
        "id": "e3c0ee4e",
        "outputId": "60168da2-23d9-40e8-d488-2d53cd5b1266"
      },
      "outputs": [
        {
          "data": {
            "text/plain": [
              "D_41        3\n",
              "D_42     5164\n",
              "D_43     1811\n",
              "D_44      315\n",
              "D_45        3\n",
              "         ... \n",
              "D_141     103\n",
              "D_142    5007\n",
              "D_143     103\n",
              "D_144      41\n",
              "D_145     103\n",
              "Length: 73, dtype: int64"
            ]
          },
          "execution_count": 60,
          "metadata": {},
          "output_type": "execute_result"
        }
      ],
      "source": [
        "columnas_D = df.filter(like='D_')\n",
        "\n",
        "sub_df = df[columnas_D.columns].loc[:, df[columnas_D.columns].isna().any()]\n",
        "sub_df.isna().sum()"
      ]
    },
    {
      "cell_type": "code",
      "execution_count": null,
      "id": "259634ba",
      "metadata": {
        "colab": {
          "base_uri": "https://localhost:8080/",
          "height": 519
        },
        "id": "259634ba",
        "outputId": "cc1eb671-3520-4ef5-bc8a-627320ec310b"
      },
      "outputs": [
        {
          "data": {
            "image/png": "[encoded data removed]",
            "text/plain": [
              "<Figure size 4000x1500 with 1 Axes>"
            ]
          },
          "metadata": {},
          "output_type": "display_data"
        }
      ],
      "source": [
        "plt.figure(figsize=(40, 15))  # Ajusta el tamaño de la figura\n",
        "sns.barplot(data = sub_df)\n",
        "plt.title('Gráfico de barras para la Columnas D_*')\n",
        "plt.ylabel('Valores')\n",
        "plt.xlabel('Columnas')\n",
        "plt.xticks(rotation=45)  # Rota los nombres de las columnas si es necesario\n",
        "plt.show()"
      ]
    },
    {
      "cell_type": "code",
      "execution_count": null,
      "id": "db94b362",
      "metadata": {
        "id": "db94b362"
      },
      "outputs": [],
      "source": [
        "completar_na(sub_df)"
      ]
    },
    {
      "cell_type": "markdown",
      "id": "e1aae2fa",
      "metadata": {
        "id": "e1aae2fa"
      },
      "source": [
        "### P_*"
      ]
    },
    {
      "cell_type": "code",
      "execution_count": null,
      "id": "5d185825",
      "metadata": {
        "colab": {
          "base_uri": "https://localhost:8080/"
        },
        "id": "5d185825",
        "outputId": "10590d3c-4884-4751-c6b2-d4bb39d9798d"
      },
      "outputs": [
        {
          "data": {
            "text/plain": [
              "P_2     50\n",
              "P_3    307\n",
              "dtype: int64"
            ]
          },
          "execution_count": 63,
          "metadata": {},
          "output_type": "execute_result"
        }
      ],
      "source": [
        "columnas_P = df.filter(like='P_')\n",
        "\n",
        "sub_df = df[columnas_P.columns].loc[:, df[columnas_P.columns].isna().any()]\n",
        "sub_df.isna().sum()"
      ]
    },
    {
      "cell_type": "code",
      "execution_count": null,
      "id": "8c1f0ce4",
      "metadata": {
        "colab": {
          "base_uri": "https://localhost:8080/",
          "height": 685
        },
        "id": "8c1f0ce4",
        "outputId": "e228e101-898a-4c2a-88e6-46a844e57215"
      },
      "outputs": [
        {
          "data": {
            "image/png": "[encoded data removed]",
            "text/plain": [
              "<Figure size 2000x1000 with 1 Axes>"
            ]
          },
          "metadata": {},
          "output_type": "display_data"
        }
      ],
      "source": [
        "plt.figure(figsize=(20, 10))  # Ajusta el tamaño de la figura\n",
        "sns.boxplot(data = sub_df)\n",
        "plt.title('Gráfico de barras para la Columnas P_*')\n",
        "plt.ylabel('Valores')\n",
        "plt.xlabel('Columnas')\n",
        "plt.xticks(rotation=45)  # Rota los nombres de las columnas si es necesario\n",
        "plt.show()"
      ]
    },
    {
      "cell_type": "code",
      "execution_count": null,
      "id": "c3ea170d",
      "metadata": {
        "id": "c3ea170d"
      },
      "outputs": [],
      "source": [
        "completar_na(sub_df)"
      ]
    },
    {
      "cell_type": "markdown",
      "id": "cdf26d0f",
      "metadata": {
        "id": "cdf26d0f"
      },
      "source": [
        "### B_*"
      ]
    },
    {
      "cell_type": "code",
      "execution_count": null,
      "id": "b8ef912f",
      "metadata": {
        "colab": {
          "base_uri": "https://localhost:8080/"
        },
        "id": "b8ef912f",
        "outputId": "e1fd7d4e-c976-4370-e65c-de4b018d5da6"
      },
      "outputs": [
        {
          "data": {
            "text/plain": [
              "B_2        3\n",
              "B_3        3\n",
              "B_8       32\n",
              "B_13      35\n",
              "B_15      10\n",
              "B_16       3\n",
              "B_17    3526\n",
              "B_19       3\n",
              "B_20       3\n",
              "B_22       3\n",
              "B_25      10\n",
              "B_26       3\n",
              "B_27       3\n",
              "B_29    5623\n",
              "B_33       3\n",
              "B_39    6009\n",
              "B_41       1\n",
              "B_42    5960\n",
              "dtype: int64"
            ]
          },
          "execution_count": 66,
          "metadata": {},
          "output_type": "execute_result"
        }
      ],
      "source": [
        "columnas_B = df.filter(like='B_')\n",
        "\n",
        "sub_df = df[columnas_B.columns].loc[:, df[columnas_B.columns].isna().any()]\n",
        "sub_df.isna().sum()"
      ]
    },
    {
      "cell_type": "code",
      "execution_count": null,
      "id": "572ade17",
      "metadata": {
        "colab": {
          "base_uri": "https://localhost:8080/",
          "height": 695
        },
        "id": "572ade17",
        "outputId": "07b4b631-f702-41c2-f557-40f92ef221d5"
      },
      "outputs": [
        {
          "data": {
            "image/png": "[encoded data removed]",
            "text/plain": [
              "<Figure size 2000x1000 with 1 Axes>"
            ]
          },
          "metadata": {},
          "output_type": "display_data"
        }
      ],
      "source": [
        "plt.figure(figsize=(20, 10))  # Ajusta el tamaño de la figura\n",
        "sns.barplot(data = sub_df)\n",
        "plt.title('Gráfico de barras para la Columnas B_*')\n",
        "plt.ylabel('Valores')\n",
        "plt.xlabel('Columnas')\n",
        "plt.xticks(rotation=45)  # Rota los nombres de las columnas si es necesario\n",
        "plt.show()"
      ]
    },
    {
      "cell_type": "code",
      "execution_count": null,
      "id": "30643706",
      "metadata": {
        "id": "30643706"
      },
      "outputs": [],
      "source": [
        "completar_na(sub_df)"
      ]
    },
    {
      "cell_type": "markdown",
      "id": "15c0deb1",
      "metadata": {
        "id": "15c0deb1"
      },
      "source": [
        "### R_*"
      ]
    },
    {
      "cell_type": "code",
      "execution_count": null,
      "id": "7cb61a8c",
      "metadata": {
        "colab": {
          "base_uri": "https://localhost:8080/"
        },
        "id": "7cb61a8c",
        "outputId": "27229e0b-842d-4db2-a378-d68e937406f9"
      },
      "outputs": [
        {
          "data": {
            "text/plain": [
              "R_9     5720\n",
              "R_26    5402\n",
              "R_27     149\n",
              "dtype: int64"
            ]
          },
          "execution_count": 69,
          "metadata": {},
          "output_type": "execute_result"
        }
      ],
      "source": [
        "columnas_R = df.filter(like='R_')\n",
        "\n",
        "sub_df = df[columnas_R.columns].loc[:, df[columnas_R.columns].isna().any()]\n",
        "sub_df.isna().sum()"
      ]
    },
    {
      "cell_type": "code",
      "execution_count": null,
      "id": "7e407b04",
      "metadata": {
        "colab": {
          "base_uri": "https://localhost:8080/",
          "height": 691
        },
        "id": "7e407b04",
        "outputId": "ccaf0938-c639-4e84-e296-c71dbabea32f"
      },
      "outputs": [
        {
          "data": {
            "image/png": "[encoded data removed]",
            "text/plain": [
              "<Figure size 2000x1000 with 1 Axes>"
            ]
          },
          "metadata": {},
          "output_type": "display_data"
        }
      ],
      "source": [
        "plt.figure(figsize=(20, 10))  # Ajusta el tamaño de la figura\n",
        "sns.boxplot(data = sub_df)\n",
        "plt.title('Gráfico de barras para la Columnas R_*')\n",
        "plt.ylabel('Valores')\n",
        "plt.xlabel('Columnas')\n",
        "plt.xticks(rotation=45)  # Rota los nombres de las columnas si es necesario\n",
        "plt.show()"
      ]
    },
    {
      "cell_type": "code",
      "execution_count": null,
      "id": "3deba197",
      "metadata": {
        "id": "3deba197"
      },
      "outputs": [],
      "source": [
        "completar_na(sub_df)"
      ]
    },
    {
      "cell_type": "code",
      "execution_count": null,
      "id": "2729213c",
      "metadata": {
        "colab": {
          "base_uri": "https://localhost:8080/"
        },
        "id": "2729213c",
        "outputId": "cff78eee-f294-483b-da66-a3dc5b864758"
      },
      "outputs": [
        {
          "name": "stdout",
          "output_type": "stream",
          "text": [
            "Informacion faltate en el DF: 0\n"
          ]
        }
      ],
      "source": [
        "print(f'Informacion faltate en el DF: {df.isna().sum().sum()}')"
      ]
    },
    {
      "cell_type": "markdown",
      "id": "8pak8NzdZ-rE",
      "metadata": {
        "id": "8pak8NzdZ-rE"
      },
      "source": [
        "## Modelos"
      ]
    },
    {
      "cell_type": "code",
      "execution_count": null,
      "id": "kmTGYEJ_IWjN",
      "metadata": {
        "id": "kmTGYEJ_IWjN"
      },
      "outputs": [],
      "source": [
        "# Separar las características (X) y la variable objetivo (y)\n",
        "X = df.drop('target', axis=1)  # Quitamos la columna 'target' del DataFrame para obtener las características\n",
        "y = df['target']  # Columna 'target' como variable objetivo\n",
        "\n",
        "# Dividir el conjunto de datos en entrenamiento y prueba (por ejemplo, 70-30)\n",
        "X_train, X_test, y_train, y_test = train_test_split(X, y, test_size=0.3, random_state=42)\n"
      ]
    },
    {
      "cell_type": "code",
      "execution_count": null,
      "id": "JwQbdff1L2Ty",
      "metadata": {
        "id": "JwQbdff1L2Ty"
      },
      "outputs": [],
      "source": [
        "# 'customer_ID' es una variable categórica y 'S_2' es una variable de tipo fecha\n",
        "\n",
        "# Codificar 'customer_ID' usando Label Encoding\n",
        "\n",
        "label_encoder = LabelEncoder()\n",
        "df['customer_ID_encoded'] = label_encoder.fit_transform(df['customer_ID'])\n",
        "\n",
        "# Tratamiento de la variable de fecha 'S_2'\n",
        "df['S_2'] = pd.to_datetime(df['S_2'])  # Convertir a tipo datetime\n",
        "df['year'] = df['S_2'].dt.year  # Extraer el año\n",
        "df['month'] = df['S_2'].dt.month  # Extraer el mes\n",
        "\n",
        "# Eliminar las columnas originales 'customer_ID' y 'S_2' que ya no son necesarias\n",
        "df.drop(['customer_ID', 'S_2'], axis=1, inplace=True)\n",
        "\n",
        "# Separar las características (X) y la variable objetivo (y)\n",
        "X = df.drop('target', axis=1)  # Quitamos la columna 'target' del DataFrame para obtener las características\n",
        "y = df['target']  # Columna 'target' como variable objetivo\n",
        "\n",
        "# Dividir el conjunto de datos en entrenamiento y prueba (por ejemplo, 70-30)\n",
        "X_train, X_test, y_train, y_test = train_test_split(X, y, test_size=0.3, random_state=42)"
      ]
    },
    {
      "cell_type": "code",
      "execution_count": null,
      "id": "kaAY1pZ7Igix",
      "metadata": {
        "id": "kaAY1pZ7Igix"
      },
      "outputs": [],
      "source": [
        "# Inicializar los modelos\n",
        "logistic_regression = LogisticRegression()\n",
        "random_forest = RandomForestClassifier()\n",
        "svm_classifier = SVC()"
      ]
    },
    {
      "cell_type": "code",
      "execution_count": null,
      "id": "-4fg7juXIjlp",
      "metadata": {
        "colab": {
          "base_uri": "https://localhost:8080/",
          "height": 214
        },
        "id": "-4fg7juXIjlp",
        "outputId": "7a4ac871-5319-4e09-83ee-c6f88227ce44"
      },
      "outputs": [
        {
          "name": "stderr",
          "output_type": "stream",
          "text": [
            "/usr/local/lib/python3.10/dist-packages/sklearn/linear_model/_logistic.py:458: ConvergenceWarning: lbfgs failed to converge (status=1):\n",
            "STOP: TOTAL NO. of ITERATIONS REACHED LIMIT.\n",
            "\n",
            "Increase the number of iterations (max_iter) or scale the data as shown in:\n",
            "    https://scikit-learn.org/stable/modules/preprocessing.html\n",
            "Please also refer to the documentation for alternative solver options:\n",
            "    https://scikit-learn.org/stable/modules/linear_model.html#logistic-regression\n",
            "  n_iter_i = _check_optimize_result(\n"
          ]
        },
        {
          "data": {
            "text/html": [
              "<style>#sk-container-id-1 {color: black;background-color: white;}#sk-container-id-1 pre{padding: 0;}#sk-container-id-1 div.sk-toggleable {background-color: white;}#sk-container-id-1 label.sk-toggleable__label {cursor: pointer;display: block;width: 100%;margin-bottom: 0;padding: 0.3em;box-sizing: border-box;text-align: center;}#sk-container-id-1 label.sk-toggleable__label-arrow:before {content: \"▸\";float: left;margin-right: 0.25em;color: #696969;}#sk-container-id-1 label.sk-toggleable__label-arrow:hover:before {color: black;}#sk-container-id-1 div.sk-estimator:hover label.sk-toggleable__label-arrow:before {color: black;}#sk-container-id-1 div.sk-toggleable__content {max-height: 0;max-width: 0;overflow: hidden;text-align: left;background-color: #f0f8ff;}#sk-container-id-1 div.sk-toggleable__content pre {margin: 0.2em;color: black;border-radius: 0.25em;background-color: #f0f8ff;}#sk-container-id-1 input.sk-toggleable__control:checked~div.sk-toggleable__content {max-height: 200px;max-width: 100%;overflow: auto;}#sk-container-id-1 input.sk-toggleable__control:checked~label.sk-toggleable__label-arrow:before {content: \"▾\";}#sk-container-id-1 div.sk-estimator input.sk-toggleable__control:checked~label.sk-toggleable__label {background-color: #d4ebff;}#sk-container-id-1 div.sk-label input.sk-toggleable__control:checked~label.sk-toggleable__label {background-color: #d4ebff;}#sk-container-id-1 input.sk-hidden--visually {border: 0;clip: rect(1px 1px 1px 1px);clip: rect(1px, 1px, 1px, 1px);height: 1px;margin: -1px;overflow: hidden;padding: 0;position: absolute;width: 1px;}#sk-container-id-1 div.sk-estimator {font-family: monospace;background-color: #f0f8ff;border: 1px dotted black;border-radius: 0.25em;box-sizing: border-box;margin-bottom: 0.5em;}#sk-container-id-1 div.sk-estimator:hover {background-color: #d4ebff;}#sk-container-id-1 div.sk-parallel-item::after {content: \"\";width: 100%;border-bottom: 1px solid gray;flex-grow: 1;}#sk-container-id-1 div.sk-label:hover label.sk-toggleable__label {background-color: #d4ebff;}#sk-container-id-1 div.sk-serial::before {content: \"\";position: absolute;border-left: 1px solid gray;box-sizing: border-box;top: 0;bottom: 0;left: 50%;z-index: 0;}#sk-container-id-1 div.sk-serial {display: flex;flex-direction: column;align-items: center;background-color: white;padding-right: 0.2em;padding-left: 0.2em;position: relative;}#sk-container-id-1 div.sk-item {position: relative;z-index: 1;}#sk-container-id-1 div.sk-parallel {display: flex;align-items: stretch;justify-content: center;background-color: white;position: relative;}#sk-container-id-1 div.sk-item::before, #sk-container-id-1 div.sk-parallel-item::before {content: \"\";position: absolute;border-left: 1px solid gray;box-sizing: border-box;top: 0;bottom: 0;left: 50%;z-index: -1;}#sk-container-id-1 div.sk-parallel-item {display: flex;flex-direction: column;z-index: 1;position: relative;background-color: white;}#sk-container-id-1 div.sk-parallel-item:first-child::after {align-self: flex-end;width: 50%;}#sk-container-id-1 div.sk-parallel-item:last-child::after {align-self: flex-start;width: 50%;}#sk-container-id-1 div.sk-parallel-item:only-child::after {width: 0;}#sk-container-id-1 div.sk-dashed-wrapped {border: 1px dashed gray;margin: 0 0.4em 0.5em 0.4em;box-sizing: border-box;padding-bottom: 0.4em;background-color: white;}#sk-container-id-1 div.sk-label label {font-family: monospace;font-weight: bold;display: inline-block;line-height: 1.2em;}#sk-container-id-1 div.sk-label-container {text-align: center;}#sk-container-id-1 div.sk-container {/* jupyter's `normalize.less` sets `[hidden] { display: none; }` but bootstrap.min.css set `[hidden] { display: none !important; }` so we also need the `!important` here to be able to override the default hidden behavior on the sphinx rendered scikit-learn.org. See: https://github.com/scikit-learn/scikit-learn/issues/21755 */display: inline-block !important;position: relative;}#sk-container-id-1 div.sk-text-repr-fallback {display: none;}</style><div id=\"sk-container-id-1\" class=\"sk-top-container\"><div class=\"sk-text-repr-fallback\"><pre>SVC()</pre><b>In a Jupyter environment, please rerun this cell to show the HTML representation or trust the notebook. <br />On GitHub, the HTML representation is unable to render, please try loading this page with nbviewer.org.</b></div><div class=\"sk-container\" hidden><div class=\"sk-item\"><div class=\"sk-estimator sk-toggleable\"><input class=\"sk-toggleable__control sk-hidden--visually\" id=\"sk-estimator-id-1\" type=\"checkbox\" checked><label for=\"sk-estimator-id-1\" class=\"sk-toggleable__label sk-toggleable__label-arrow\">SVC</label><div class=\"sk-toggleable__content\"><pre>SVC()</pre></div></div></div></div></div>"
            ],
            "text/plain": [
              "SVC()"
            ]
          },
          "execution_count": 76,
          "metadata": {},
          "output_type": "execute_result"
        }
      ],
      "source": [
        "# Entrenar los modelos\n",
        "logistic_regression.fit(X_train, y_train)\n",
        "random_forest.fit(X_train, y_train)\n",
        "svm_classifier.fit(X_train, y_train)\n"
      ]
    },
    {
      "cell_type": "code",
      "execution_count": null,
      "id": "OeYTaBrnMXfM",
      "metadata": {
        "colab": {
          "base_uri": "https://localhost:8080/"
        },
        "id": "OeYTaBrnMXfM",
        "outputId": "fcdb754a-d42c-4b48-c708-083449f0c00a"
      },
      "outputs": [
        {
          "name": "stdout",
          "output_type": "stream",
          "text": [
            "Logistic Regression Metrics:\n",
            "              precision    recall  f1-score   support\n",
            "\n",
            "           0       0.90      0.93      0.92      1385\n",
            "           1       0.75      0.67      0.71       428\n",
            "\n",
            "    accuracy                           0.87      1813\n",
            "   macro avg       0.83      0.80      0.81      1813\n",
            "weighted avg       0.87      0.87      0.87      1813\n",
            "\n",
            "Accuracy: 0.8692774407060121\n",
            "ROC AUC Score: 0.7998161206518438\n"
          ]
        }
      ],
      "source": [
        "# Predicciones en el conjunto de prueba\n",
        "y_pred_lr = logistic_regression.predict(X_test)\n",
        "\n",
        "# Métricas de evaluación\n",
        "print(\"Logistic Regression Metrics:\")\n",
        "print(classification_report(y_test, y_pred_lr))\n",
        "print(\"Accuracy:\", accuracy_score(y_test, y_pred_lr))\n",
        "print(\"ROC AUC Score:\", roc_auc_score(y_test, y_pred_lr))"
      ]
    },
    {
      "cell_type": "code",
      "execution_count": null,
      "id": "Ok1xvrN7xDAu",
      "metadata": {
        "colab": {
          "base_uri": "https://localhost:8080/"
        },
        "id": "Ok1xvrN7xDAu",
        "outputId": "1af47ac6-d10c-4cdb-8467-f4ceebb5f240"
      },
      "outputs": [
        {
          "name": "stdout",
          "output_type": "stream",
          "text": [
            "Random Forest Metrics:\n",
            "              precision    recall  f1-score   support\n",
            "\n",
            "           0       0.90      0.93      0.92      1385\n",
            "           1       0.75      0.67      0.70       428\n",
            "\n",
            "    accuracy                           0.87      1813\n",
            "   macro avg       0.82      0.80      0.81      1813\n",
            "weighted avg       0.86      0.87      0.87      1813\n",
            "\n",
            "Accuracy: 0.8681742967457253\n",
            "ROC AUC Score: 0.7982868855224534\n"
          ]
        }
      ],
      "source": [
        "# Predicciones en el conjunto de prueba\n",
        "y_pred_rf = random_forest.predict(X_test)\n",
        "\n",
        "\n",
        "# Métricas de evaluación\n",
        "print(\"Random Forest Metrics:\")\n",
        "print(classification_report(y_test, y_pred_rf))\n",
        "print(\"Accuracy:\", accuracy_score(y_test, y_pred_rf))\n",
        "print(\"ROC AUC Score:\", roc_auc_score(y_test, y_pred_rf))"
      ]
    },
    {
      "cell_type": "code",
      "execution_count": null,
      "id": "USM2VEvrxKde",
      "metadata": {
        "colab": {
          "base_uri": "https://localhost:8080/"
        },
        "id": "USM2VEvrxKde",
        "outputId": "159ed2be-7eaf-4741-e6ff-b2d66ac86743"
      },
      "outputs": [
        {
          "name": "stdout",
          "output_type": "stream",
          "text": [
            "SVM Metrics:\n",
            "              precision    recall  f1-score   support\n",
            "\n",
            "           0       0.76      1.00      0.87      1385\n",
            "           1       0.00      0.00      0.00       428\n",
            "\n",
            "    accuracy                           0.76      1813\n",
            "   macro avg       0.38      0.50      0.43      1813\n",
            "weighted avg       0.58      0.76      0.66      1813\n",
            "\n",
            "Accuracy: 0.7639271924986211\n",
            "ROC AUC Score: 0.5\n"
          ]
        },
        {
          "name": "stderr",
          "output_type": "stream",
          "text": [
            "/usr/local/lib/python3.10/dist-packages/sklearn/metrics/_classification.py:1344: UndefinedMetricWarning: Precision and F-score are ill-defined and being set to 0.0 in labels with no predicted samples. Use `zero_division` parameter to control this behavior.\n",
            "  _warn_prf(average, modifier, msg_start, len(result))\n",
            "/usr/local/lib/python3.10/dist-packages/sklearn/metrics/_classification.py:1344: UndefinedMetricWarning: Precision and F-score are ill-defined and being set to 0.0 in labels with no predicted samples. Use `zero_division` parameter to control this behavior.\n",
            "  _warn_prf(average, modifier, msg_start, len(result))\n",
            "/usr/local/lib/python3.10/dist-packages/sklearn/metrics/_classification.py:1344: UndefinedMetricWarning: Precision and F-score are ill-defined and being set to 0.0 in labels with no predicted samples. Use `zero_division` parameter to control this behavior.\n",
            "  _warn_prf(average, modifier, msg_start, len(result))\n"
          ]
        }
      ],
      "source": [
        "# Predicciones en el conjunto de prueba\n",
        "y_pred_svm = svm_classifier.predict(X_test)\n",
        "\n",
        "# Métricas de evaluación\n",
        "print(\"SVM Metrics:\")\n",
        "print(classification_report(y_test, y_pred_svm))\n",
        "print(\"Accuracy:\", accuracy_score(y_test, y_pred_svm))\n",
        "print(\"ROC AUC Score:\", roc_auc_score(y_test, y_pred_svm))"
      ]
    },
    {
      "cell_type": "markdown",
      "id": "uQz22SK9bNJM",
      "metadata": {
        "id": "uQz22SK9bNJM"
      },
      "source": [
        "## Hiperparámetros\n",
        "\n",
        "### Random Forest"
      ]
    },
    {
      "cell_type": "code",
      "execution_count": null,
      "id": "elBw2pqwNSft",
      "metadata": {
        "colab": {
          "background_save": true
        },
        "id": "elBw2pqwNSft",
        "outputId": "28c5dc81-a88f-4334-fcf1-4f33639ff5d0"
      },
      "outputs": [
        {
          "name": "stdout",
          "output_type": "stream",
          "text": [
            "Best Parameters for RandomForest: {'max_depth': 20, 'n_estimators': 300}\n",
            "Best ROC AUC Score for RandomForest: 0.9264815493652099\n"
          ]
        }
      ],
      "source": [
        "\n",
        "# Definir los hiperparámetros a ajustar\n",
        "param_grid_rf = {\n",
        "    'n_estimators': [100, 200, 300],\n",
        "    'max_depth': [None, 10, 20],\n",
        "}\n",
        "\n",
        "# Realizar búsqueda grid para RandomForestClassifier\n",
        "grid_search_rf = GridSearchCV(random_forest, param_grid_rf, cv=5, scoring='roc_auc')\n",
        "grid_search_rf.fit(X_train, y_train)\n",
        "\n",
        "# Mostrar los mejores parámetros y el mejor score\n",
        "print(\"Best Parameters for RandomForest:\", grid_search_rf.best_params_)\n",
        "print(\"Best ROC AUC Score for RandomForest:\", grid_search_rf.best_score_)"
      ]
    },
    {
      "cell_type": "code",
      "execution_count": null,
      "id": "Ydo30A0YGxBv",
      "metadata": {
        "colab": {
          "background_save": true
        },
        "id": "Ydo30A0YGxBv",
        "outputId": "12bd68bc-a452-41ae-a623-453df7c77087"
      },
      "outputs": [
        {
          "name": "stdout",
          "output_type": "stream",
          "text": [
            "Precisión del modelo: 0.8659680088251517\n",
            "Reporte de clasificación:\n",
            "              precision    recall  f1-score   support\n",
            "\n",
            "           0       0.90      0.93      0.91      1385\n",
            "           1       0.74      0.67      0.70       428\n",
            "\n",
            "    accuracy                           0.87      1813\n",
            "   macro avg       0.82      0.80      0.81      1813\n",
            "weighted avg       0.86      0.87      0.86      1813\n",
            "\n"
          ]
        }
      ],
      "source": [
        "# Crear un clasificador RandomForest con los mejores hiperparámetros encontrados\n",
        "best_random_forest = RandomForestClassifier(max_depth=None, n_estimators=300)\n",
        "\n",
        "# Entrenar el modelo con los datos de entrenamiento\n",
        "best_random_forest.fit(X_train, y_train)\n",
        "\n",
        "# Predecir utilizando el modelo entrenado\n",
        "predictions = best_random_forest.predict(X_test)\n",
        "\n",
        "# Evaluar el rendimiento del modelo\n",
        "\n",
        "accuracy = accuracy_score(y_test, predictions)\n",
        "report = classification_report(y_test, predictions)\n",
        "\n",
        "print(f\"Precisión del modelo: {accuracy}\")\n",
        "print(f\"Reporte de clasificación:\\n{report}\")\n"
      ]
    },
    {
      "cell_type": "code",
      "execution_count": null,
      "id": "rVyijpw9sg_J",
      "metadata": {
        "colab": {
          "background_save": true
        },
        "id": "rVyijpw9sg_J",
        "outputId": "e265c693-9d31-4a9c-a182-09698215c08c"
      },
      "outputs": [
        {
          "name": "stdout",
          "output_type": "stream",
          "text": [
            "Random Forest Metrics:\n",
            "Accuracy: 0.8659680088251517\n",
            "Precision: 0.7365728900255755\n",
            "Recall: 0.6728971962616822\n",
            "ROC AUC Score: 0.9261749721650528\n",
            "Confusion Matrix:\n",
            "[[1282  103]\n",
            " [ 140  288]]\n"
          ]
        }
      ],
      "source": [
        "\n",
        "\n",
        "# Obtener predicciones y probabilidades del modelo de bosque aleatorio\n",
        "y_pred_rf = best_random_forest.predict(X_test)\n",
        "y_pred_proba_rf = best_random_forest.predict_proba(X_test)[:, 1]\n",
        "\n",
        "# Calcular métricas\n",
        "rf_accuracy = accuracy_score(y_test, y_pred_rf)\n",
        "rf_precision = precision_score(y_test, y_pred_rf)\n",
        "rf_recall = recall_score(y_test, y_pred_rf)\n",
        "rf_roc_auc = roc_auc_score(y_test, y_pred_proba_rf)\n",
        "rf_conf_matrix = confusion_matrix(y_test, y_pred_rf)\n",
        "\n",
        "# Imprimir las métricas\n",
        "print(\"Random Forest Metrics:\")\n",
        "print(\"Accuracy:\", rf_accuracy)\n",
        "print(\"Precision:\", rf_precision)\n",
        "print(\"Recall:\", rf_recall)\n",
        "print(\"ROC AUC Score:\", rf_roc_auc)\n",
        "print(\"Confusion Matrix:\")\n",
        "print(rf_conf_matrix)"
      ]
    },
    {
      "cell_type": "markdown",
      "id": "kGXiS5qEbZsE",
      "metadata": {
        "id": "kGXiS5qEbZsE"
      },
      "source": [
        "### Logistic Regression"
      ]
    },
    {
      "cell_type": "code",
      "execution_count": null,
      "id": "UeFjv_nVzziv",
      "metadata": {
        "colab": {
          "background_save": true
        },
        "id": "UeFjv_nVzziv",
        "outputId": "3a60b6e4-da30-4a79-aae5-131d1f701615"
      },
      "outputs": [
        {
          "name": "stderr",
          "output_type": "stream",
          "text": [
            "/usr/local/lib/python3.10/dist-packages/sklearn/model_selection/_validation.py:378: FitFailedWarning: \n",
            "30 fits failed out of a total of 60.\n",
            "The score on these train-test partitions for these parameters will be set to nan.\n",
            "If these failures are not expected, you can try to debug them by setting error_score='raise'.\n",
            "\n",
            "Below are more details about the failures:\n",
            "--------------------------------------------------------------------------------\n",
            "30 fits failed with the following error:\n",
            "Traceback (most recent call last):\n",
            "  File \"/usr/local/lib/python3.10/dist-packages/sklearn/model_selection/_validation.py\", line 686, in _fit_and_score\n",
            "    estimator.fit(X_train, y_train, **fit_params)\n",
            "  File \"/usr/local/lib/python3.10/dist-packages/sklearn/linear_model/_logistic.py\", line 1162, in fit\n",
            "    solver = _check_solver(self.solver, self.penalty, self.dual)\n",
            "  File \"/usr/local/lib/python3.10/dist-packages/sklearn/linear_model/_logistic.py\", line 54, in _check_solver\n",
            "    raise ValueError(\n",
            "ValueError: Solver lbfgs supports only 'l2' or 'none' penalties, got l1 penalty.\n",
            "\n",
            "  warnings.warn(some_fits_failed_message, FitFailedWarning)\n",
            "/usr/local/lib/python3.10/dist-packages/sklearn/model_selection/_search.py:952: UserWarning: One or more of the test scores are non-finite: [       nan 0.82284863        nan 0.85879894        nan 0.87109964\n",
            "        nan 0.86849777        nan 0.86471442        nan 0.86258676]\n",
            "  warnings.warn(\n"
          ]
        },
        {
          "name": "stdout",
          "output_type": "stream",
          "text": [
            "Best Parameters for Logistic Regression: {'C': 0.1, 'penalty': 'l2'}\n",
            "Best Accuracy Score for Logistic Regression: 0.8710996404940758\n"
          ]
        }
      ],
      "source": [
        "# Define el modelo de regresión logística\n",
        "logistic_regression = LogisticRegression(max_iter=10000)\n",
        "\n",
        "# Define el espacio de búsqueda de hiperparámetros\n",
        "param_grid = {\n",
        "    'C': [0.001, 0.01, 0.1, 1, 10, 100],  # Valores para la fuerza de regularización\n",
        "    'penalty': ['l1', 'l2'],  # Tipo de regularización (L1 o L2)\n",
        "}\n",
        "\n",
        "# Realiza una búsqueda grid para encontrar los mejores hiperparámetros\n",
        "grid_search = GridSearchCV(logistic_regression, param_grid, cv=5, scoring='accuracy')\n",
        "grid_search.fit(X_train, y_train)\n",
        "\n",
        "# Muestra los mejores parámetros y el mejor score\n",
        "print(\"Best Parameters for Logistic Regression:\", grid_search.best_params_)\n",
        "print(\"Best Accuracy Score for Logistic Regression:\", grid_search.best_score_)"
      ]
    },
    {
      "cell_type": "code",
      "execution_count": null,
      "id": "w0Ot6DrD2GeH",
      "metadata": {
        "colab": {
          "background_save": true
        },
        "id": "w0Ot6DrD2GeH",
        "outputId": "27179d37-8860-4ebd-e2bf-c82945e52042"
      },
      "outputs": [
        {
          "name": "stdout",
          "output_type": "stream",
          "text": [
            "Accuracy of the Best Logistic Regression model: 0.8643132928847215\n"
          ]
        }
      ],
      "source": [
        "# Definir el modelo de regresión logística con los mejores parámetros encontrados\n",
        "best_logistic_regression = LogisticRegression(C=0.1, penalty='l2', max_iter=10000)\n",
        "\n",
        "# Entrenar el modelo con los mejores parámetros utilizando todo el conjunto de entrenamiento\n",
        "best_logistic_regression.fit(X_train, y_train)\n",
        "\n",
        "# Evaluar el modelo en el conjunto de prueba (X_test, y_test)\n",
        "accuracy = best_logistic_regression.score(X_test, y_test)\n",
        "print(\"Accuracy of the Best Logistic Regression model:\", accuracy)\n"
      ]
    },
    {
      "cell_type": "code",
      "execution_count": null,
      "id": "mr4tAg762hSP",
      "metadata": {
        "colab": {
          "background_save": true
        },
        "id": "mr4tAg762hSP",
        "outputId": "1924855b-c7b3-4f4f-f1f1-d1bd7f9bab04"
      },
      "outputs": [
        {
          "name": "stdout",
          "output_type": "stream",
          "text": [
            "Accuracy: 0.8643132928847215\n",
            "Precision: 0.7407407407407407\n",
            "Recall: 0.6542056074766355\n",
            "ROC AUC Score: 0.9212507169607611\n",
            "\n",
            "Confusion Matrix:\n",
            "[[1287   98]\n",
            " [ 148  280]]\n"
          ]
        }
      ],
      "source": [
        "\n",
        "\n",
        "# Realizar predicciones en el conjunto de prueba\n",
        "y_pred = best_logistic_regression.predict(X_test)\n",
        "y_pred_proba = best_logistic_regression.predict_proba(X_test)[:, 1]\n",
        "\n",
        "# Calcular y mostrar diferentes métricas\n",
        "print(\"Accuracy:\", accuracy_score(y_test, y_pred))\n",
        "print(\"Precision:\", precision_score(y_test, y_pred))\n",
        "print(\"Recall:\", recall_score(y_test, y_pred))\n",
        "print(\"ROC AUC Score:\", roc_auc_score(y_test, y_pred_proba))\n",
        "\n",
        "# Calcular y mostrar la matriz de confusión\n",
        "conf_matrix = confusion_matrix(y_test, y_pred)\n",
        "print(\"\\nConfusion Matrix:\")\n",
        "print(conf_matrix)"
      ]
    },
    {
      "cell_type": "markdown",
      "id": "n-3JQFMLciI0",
      "metadata": {
        "id": "n-3JQFMLciI0"
      },
      "source": [
        "### XGBoost"
      ]
    },
    {
      "cell_type": "code",
      "execution_count": null,
      "id": "r1zlkXbKvlDF",
      "metadata": {
        "id": "r1zlkXbKvlDF"
      },
      "outputs": [],
      "source": [
        "# Definir el modelo XGBoost\n",
        "xgb_model = xgb.XGBClassifier()\n",
        "\n",
        "# Definir el espacio de búsqueda de hiperparámetros\n",
        "param_grid = {\n",
        "    'n_estimators': [100, 200, 300],  # Lista de valores para el número de árboles\n",
        "    'max_depth': [3, 5, 7],  # Lista de valores para la profundidad máxima del árbol\n",
        "    'learning_rate': [0.1, 0.01, 0.001]  # Lista de valores para la tasa de aprendizaje\n",
        "}\n",
        "\n",
        "# Inicializar GridSearchCV con el modelo XGBoost y el espacio de hiperparámetros\n",
        "grid_search = GridSearchCV(estimator=xgb_model, param_grid=param_grid, cv=3, scoring='accuracy')\n",
        "\n",
        "# Realizar la búsqueda de hiperparámetros utilizando los datos de entrenamiento\n",
        "grid_search.fit(X_train, y_train)\n",
        "\n",
        "# Obtener los mejores hiperparámetros encontrados\n",
        "best_params = grid_search.best_params_\n",
        "print(\"Mejores hiperparámetros:\", best_params)"
      ]
    },
    {
      "cell_type": "code",
      "execution_count": null,
      "id": "r-9Olx1hyUap",
      "metadata": {
        "id": "r-9Olx1hyUap"
      },
      "outputs": [],
      "source": [
        "# Utilizar los mejores hiperparámetros para el modelo XGBoost\n",
        "best_xgb_model = xgb.XGBClassifier(**best_params)\n",
        "\n",
        "# Entrenar el modelo con los mejores hiperparámetros\n",
        "best_xgb_model.fit(X_train, y_train)\n",
        "\n",
        "\n",
        "# Predecir utilizando el modelo entrenado\n",
        "predictions = best_xgb_model.predict(X_test)\n",
        "\n",
        "# Evaluar el rendimiento del modelo\n",
        "\n",
        "accuracy = accuracy_score(y_test, predictions)\n",
        "report = classification_report(y_test, predictions)\n",
        "\n",
        "print(f\"Precisión del modelo: {accuracy}\")\n",
        "print(f\"Reporte de clasificación:\\n{report}\")\n",
        "\n",
        "# Realizar predicciones y evaluar el modelo con los datos de prueba\n",
        "y_pred_xgb = best_xgb_model.predict(X_test)\n",
        "y_pred_proba_xgb = best_xgb_model.predict_proba(X_test)[:, 1]\n",
        "\n",
        "accuracy_xgb = accuracy_score(y_test, y_pred_xgb)\n",
        "precision_xgb = precision_score(y_test, y_pred_xgb)\n",
        "recall_xgb = recall_score(y_test, y_pred_xgb)\n",
        "roc_auc_xgb = roc_auc_score(y_test, y_pred_proba_xgb)\n",
        "\n",
        "# Imprimir las métricas\n",
        "print(\"XGBoost Metrics:\")\n",
        "print(\"Accuracy:\", accuracy_xgb)\n",
        "print(\"Precision:\", precision_xgb)\n",
        "print(\"Recall:\", recall_xgb)\n",
        "print(\"ROC AUC Score:\", roc_auc_xgb)"
      ]
    },
    {
      "cell_type": "markdown",
      "id": "my30TluGdIHV",
      "metadata": {
        "id": "my30TluGdIHV"
      },
      "source": [
        "### PCA-Random Forest"
      ]
    },
    {
      "cell_type": "code",
      "execution_count": null,
      "id": "mbpSwbEa_sUd",
      "metadata": {
        "id": "mbpSwbEa_sUd"
      },
      "outputs": [],
      "source": [
        "# Definir el modelo de PCA\n",
        "pca = PCA()\n",
        "\n",
        "# Definir el modelo de Random Forest\n",
        "rf = RandomForestClassifier()\n",
        "\n",
        "# Crear el pipeline combinando PCA y RandomForestClassifier\n",
        "pipeline = Pipeline([\n",
        "    ('pca', pca),\n",
        "    ('rf', rf)\n",
        "])\n",
        "\n",
        "# Definir los parámetros a ajustar en GridSearchCV\n",
        "param_grid = {\n",
        "    'pca__n_components': [5, 10, 20],  # Ajustar el número de componentes principales\n",
        "    'rf__n_estimators': [50, 100, 200],  # Ajustar el número de árboles en el RandomForest\n",
        "    'rf__max_depth': [None, 10, 20]  # Ajustar la profundidad máxima de los árboles\n",
        "}\n",
        "\n",
        "# Realizar la búsqueda de hiperparámetros con GridSearchCV\n",
        "grid = GridSearchCV(pipeline, param_grid=param_grid, cv=3)\n",
        "grid.fit(X_train, y_train)\n",
        "\n",
        "# Mostrar los mejores hiperparámetros encontrados\n",
        "print(\"Mejores hiperparámetros:\", grid.best_params_)\n"
      ]
    },
    {
      "cell_type": "code",
      "execution_count": null,
      "id": "-APKQlF5Aed8",
      "metadata": {
        "id": "-APKQlF5Aed8"
      },
      "outputs": [],
      "source": [
        "# Crear el modelo con los mejores hiperparámetros encontrados\n",
        "best_pca_components = grid.best_params_['pca__n_components']\n",
        "best_rf_estimators = grid.best_params_['rf__n_estimators']\n",
        "best_rf_depth = grid.best_params_['rf__max_depth']\n",
        "\n",
        "# Definir el modelo de PCA con los mejores hiperparámetros\n",
        "best_pca = PCA(n_components=best_pca_components)\n",
        "\n",
        "# Definir el modelo de RandomForest con los mejores hiperparámetros\n",
        "best_rf = RandomForestClassifier(n_estimators=best_rf_estimators, max_depth=best_rf_depth)\n",
        "\n",
        "# Crear el pipeline combinando PCA y RandomForestClassifier con los mejores hiperparámetros\n",
        "best_pipeline = Pipeline([\n",
        "    ('pca', best_pca),\n",
        "    ('rf', best_rf)\n",
        "])\n",
        "\n",
        "# Entrenar el modelo con los datos de entrenamiento\n",
        "best_pipeline.fit(X_train, y_train)\n"
      ]
    },
    {
      "cell_type": "code",
      "execution_count": null,
      "id": "wsVlVjQlAlmc",
      "metadata": {
        "id": "wsVlVjQlAlmc"
      },
      "outputs": [],
      "source": [
        "# Realizar predicciones en el conjunto de prueba\n",
        "y_pred = best_pipeline.predict(X_test)\n",
        "\n",
        "# Evaluar el rendimiento del modelo\n",
        "\n",
        "# Calcular la precisión\n",
        "accuracy = accuracy_score(y_test, y_pred)\n",
        "print(\"Accuracy:\", accuracy)\n",
        "\n",
        "# Mostrar otros resultados\n",
        "print(\"Confusion Matrix:\")\n",
        "print(confusion_matrix(y_test, y_pred))\n",
        "\n",
        "print(\"Classification Report:\")\n",
        "print(classification_report(y_test, y_pred))\n"
      ]
    },
    {
      "cell_type": "markdown",
      "id": "FpezjLwGdWyN",
      "metadata": {
        "id": "FpezjLwGdWyN"
      },
      "source": [
        "### PCA-XGBoost"
      ]
    },
    {
      "cell_type": "code",
      "execution_count": null,
      "id": "BLvJm6etBbAN",
      "metadata": {
        "id": "BLvJm6etBbAN"
      },
      "outputs": [],
      "source": [
        "# Definir el modelo de PCA\n",
        "pca = PCA()\n",
        "\n",
        "# Definir el modelo de XGBoost\n",
        "xgb = XGBClassifier()\n",
        "\n",
        "# Crear el pipeline combinando PCA y XGBoost\n",
        "pipeline = Pipeline([\n",
        "    ('pca', pca),\n",
        "    ('xgb', xgb)\n",
        "])\n",
        "\n",
        "# Definir los parámetros a ajustar en GridSearchCV\n",
        "param_grid = {\n",
        "    'pca__n_components': [5, 10, 20],  # Ajustar el número de componentes principales\n",
        "    'xgb__n_estimators': [50, 100, 200],  # Ajustar el número de estimadores en XGBoost\n",
        "    'xgb__max_depth': [3, 5, 7]  # Ajustar la profundidad máxima de los árboles en XGBoost\n",
        "}\n",
        "\n",
        "# Realizar la búsqueda de hiperparámetros con GridSearchCV\n",
        "grid = GridSearchCV(pipeline, param_grid=param_grid, cv=3)\n",
        "grid.fit(X_train, y_train)\n",
        "\n",
        "# Mostrar los mejores hiperparámetros encontrados\n",
        "print(\"Mejores hiperparámetros:\", grid.best_params_)\n"
      ]
    },
    {
      "cell_type": "code",
      "execution_count": null,
      "id": "H7IyU6siB7Yl",
      "metadata": {
        "id": "H7IyU6siB7Yl"
      },
      "outputs": [],
      "source": [
        "# Definir el modelo de PCA con los mejores hiperparámetros encontrados\n",
        "best_pca_components = grid.best_params_['pca__n_components']\n",
        "best_pca = PCA(n_components=best_pca_components)\n",
        "\n",
        "# Definir el modelo de XGBoost con los mejores hiperparámetros encontrados\n",
        "best_xgb_estimators = grid.best_params_['xgb__n_estimators']\n",
        "best_xgb_depth = grid.best_params_['xgb__max_depth']\n",
        "best_xgb = XGBClassifier(n_estimators=best_xgb_estimators, max_depth=best_xgb_depth)\n",
        "\n",
        "# Crear el pipeline combinando PCA y XGBoost con los mejores hiperparámetros\n",
        "best_pipeline = Pipeline([\n",
        "    ('pca', best_pca),\n",
        "    ('xgb', best_xgb)\n",
        "])\n",
        "\n",
        "# Entrenar el modelo con los datos de entrenamiento\n",
        "best_pipeline.fit(X_train, y_train)\n",
        "\n",
        "# Realizar predicciones en el conjunto de prueba\n",
        "y_pred = best_pipeline.predict(X_test)\n",
        "\n",
        "# Evaluar el rendimiento del modelo\n",
        "accuracy = accuracy_score(y_test, y_pred)\n",
        "print(\"Accuracy:\", accuracy)\n",
        "\n",
        "# Mostrar otros resultados (matriz de confusión, reporte de clasificación, etc.)\n",
        "print(\"Confusion Matrix:\")\n",
        "print(confusion_matrix(y_test, y_pred))\n",
        "\n",
        "print(\"Classification Report:\")\n",
        "print(classification_report(y_test, y_pred))\n"
      ]
    },
    {
      "cell_type": "markdown",
      "id": "8N1j-uExDxW1",
      "metadata": {
        "id": "8N1j-uExDxW1"
      },
      "source": [
        "## CURVAS DE APRENDIZAJE\n",
        "\n",
        "### Logistic Regression\n"
      ]
    },
    {
      "cell_type": "code",
      "execution_count": null,
      "id": "fKJWGe0UD0dV",
      "metadata": {
        "id": "fKJWGe0UD0dV"
      },
      "outputs": [],
      "source": [
        "# Definir tamaños de conjunto de datos para las curvas de aprendizaje\n",
        "train_sizes, train_scores, test_scores = learning_curve(best_logistic_regression, X_train, y_train, cv=3,\n",
        "                                                        train_sizes=np.linspace(0.1, 1.0, 10),\n",
        "                                                        scoring='accuracy')\n",
        "\n",
        "# Calcular la media y desviación estándar de las puntuaciones\n",
        "train_scores_mean = np.mean(train_scores, axis=1)\n",
        "train_scores_std = np.std(train_scores, axis=1)\n",
        "test_scores_mean = np.mean(test_scores, axis=1)\n",
        "test_scores_std = np.std(test_scores, axis=1)\n",
        "\n",
        "# Graficar las curvas de aprendizaje\n",
        "plt.figure(figsize=(8, 6))\n",
        "plt.fill_between(train_sizes, train_scores_mean - train_scores_std,\n",
        "                 train_scores_mean + train_scores_std, alpha=0.1,\n",
        "                 color=\"r\")\n",
        "plt.fill_between(train_sizes, test_scores_mean - test_scores_std,\n",
        "                 test_scores_mean + test_scores_std, alpha=0.1, color=\"g\")\n",
        "plt.plot(train_sizes, train_scores_mean, 'o-', color=\"r\", label=\"Training score\")\n",
        "plt.plot(train_sizes, test_scores_mean, 'o-', color=\"g\", label=\"Cross-validation score\")\n",
        "plt.xlabel(\"Training examples\")\n",
        "plt.ylabel(\"Score\")\n",
        "plt.legend(loc=\"best\")\n",
        "plt.title(\"Learning Curve (Logistic Regression)\")\n",
        "plt.show()\n"
      ]
    },
    {
      "cell_type": "markdown",
      "id": "IJZxHPgDd1Wl",
      "metadata": {
        "id": "IJZxHPgDd1Wl"
      },
      "source": [
        "### Random Forest"
      ]
    },
    {
      "cell_type": "code",
      "execution_count": null,
      "id": "1CCzECPlFqNV",
      "metadata": {
        "id": "1CCzECPlFqNV"
      },
      "outputs": [],
      "source": [
        "\n",
        "# Definir tamaños de conjunto de datos para las curvas de aprendizaje\n",
        "train_sizes, train_scores, test_scores = learning_curve(best_random_forest, X_train, y_train, cv=3,\n",
        "                                                        train_sizes=np.linspace(0.1, 1.0, 10),\n",
        "                                                        scoring='accuracy')\n",
        "\n",
        "# Calcular la media y desviación estándar de las puntuaciones\n",
        "train_scores_mean = np.mean(train_scores, axis=1)\n",
        "train_scores_std = np.std(train_scores, axis=1)\n",
        "test_scores_mean = np.mean(test_scores, axis=1)\n",
        "test_scores_std = np.std(test_scores, axis=1)\n",
        "\n",
        "# Graficar las curvas de aprendizaje\n",
        "plt.figure(figsize=(8, 6))\n",
        "plt.fill_between(train_sizes, train_scores_mean - train_scores_std,\n",
        "                 train_scores_mean + train_scores_std, alpha=0.1,\n",
        "                 color=\"r\")\n",
        "plt.fill_between(train_sizes, test_scores_mean - test_scores_std,\n",
        "                 test_scores_mean + test_scores_std, alpha=0.1, color=\"g\")\n",
        "plt.plot(train_sizes, train_scores_mean, 'o-', color=\"r\", label=\"Training score\")\n",
        "plt.plot(train_sizes, test_scores_mean, 'o-', color=\"g\", label=\"Cross-validation score\")\n",
        "plt.xlabel(\"Training examples\")\n",
        "plt.ylabel(\"Score\")\n",
        "plt.legend(loc=\"best\")\n",
        "plt.title(\"Learning Curve (Random Forest)\")\n",
        "plt.show()\n"
      ]
    },
    {
      "cell_type": "markdown",
      "id": "4ud_KdMMd769",
      "metadata": {
        "id": "4ud_KdMMd769"
      },
      "source": [
        "### XGBoost"
      ]
    },
    {
      "cell_type": "code",
      "execution_count": null,
      "id": "SNvG04SIHspO",
      "metadata": {
        "id": "SNvG04SIHspO"
      },
      "outputs": [],
      "source": [
        "# Definir tamaños de conjunto de datos para las curvas de aprendizaje\n",
        "train_sizes, train_scores, test_scores = learning_curve(best_xgb_model, X_train, y_train, cv=3,\n",
        "                                                        train_sizes=np.linspace(0.1, 1.0, 10),\n",
        "                                                        scoring='accuracy')\n",
        "\n",
        "# Calcular la media y desviación estándar de las puntuaciones\n",
        "train_scores_mean = np.mean(train_scores, axis=1)\n",
        "train_scores_std = np.std(train_scores, axis=1)\n",
        "test_scores_mean = np.mean(test_scores, axis=1)\n",
        "test_scores_std = np.std(test_scores, axis=1)\n",
        "\n",
        "# Graficar las curvas de aprendizaje\n",
        "plt.figure(figsize=(8, 6))\n",
        "plt.fill_between(train_sizes, train_scores_mean - train_scores_std,\n",
        "                 train_scores_mean + train_scores_std, alpha=0.1,\n",
        "                 color=\"r\")\n",
        "plt.fill_between(train_sizes, test_scores_mean - test_scores_std,\n",
        "                 test_scores_mean + test_scores_std, alpha=0.1, color=\"g\")\n",
        "plt.plot(train_sizes, train_scores_mean, 'o-', color=\"r\", label=\"Training score\")\n",
        "plt.plot(train_sizes, test_scores_mean, 'o-', color=\"g\", label=\"Cross-validation score\")\n",
        "plt.xlabel(\"Training examples\")\n",
        "plt.ylabel(\"Score\")\n",
        "plt.legend(loc=\"best\")\n",
        "plt.title(\"Learning Curve (XGBoost)\")\n",
        "plt.show()\n"
      ]
    },
    {
      "cell_type": "markdown",
      "id": "qLsdllF-eCVl",
      "metadata": {
        "id": "qLsdllF-eCVl"
      },
      "source": [
        "### PCA-Random Forest"
      ]
    },
    {
      "cell_type": "code",
      "execution_count": null,
      "id": "bP1eSu1UKb1v",
      "metadata": {
        "id": "bP1eSu1UKb1v"
      },
      "outputs": [],
      "source": [
        "# Definir tamaños de conjunto de datos para las curvas de aprendizaje\n",
        "train_sizes, train_scores, test_scores = learning_curve(best_pipeline, X_train, y_train, cv=3,\n",
        "                                                        train_sizes=np.linspace(0.1, 1.0, 10),\n",
        "                                                        scoring='accuracy')\n",
        "\n",
        "# Calcular la media y desviación estándar de las puntuaciones\n",
        "train_scores_mean = np.mean(train_scores, axis=1)\n",
        "train_scores_std = np.std(train_scores, axis=1)\n",
        "test_scores_mean = np.mean(test_scores, axis=1)\n",
        "test_scores_std = np.std(test_scores, axis=1)\n",
        "\n",
        "# Graficar las curvas de aprendizaje\n",
        "plt.figure(figsize=(8, 6))\n",
        "plt.fill_between(train_sizes, train_scores_mean - train_scores_std,\n",
        "                 train_scores_mean + train_scores_std, alpha=0.1,\n",
        "                 color=\"r\")\n",
        "plt.fill_between(train_sizes, test_scores_mean - test_scores_std,\n",
        "                 test_scores_mean + test_scores_std, alpha=0.1, color=\"g\")\n",
        "plt.plot(train_sizes, train_scores_mean, 'o-', color=\"r\", label=\"Training score\")\n",
        "plt.plot(train_sizes, test_scores_mean, 'o-', color=\"g\", label=\"Cross-validation score\")\n",
        "plt.xlabel(\"Training examples\")\n",
        "plt.ylabel(\"Score\")\n",
        "plt.legend(loc=\"best\")\n",
        "plt.title(\"Learning Curve (PCA + Random Forest)\")\n",
        "plt.show()\n"
      ]
    },
    {
      "cell_type": "markdown",
      "id": "DCYk2fuPeGzc",
      "metadata": {
        "id": "DCYk2fuPeGzc"
      },
      "source": [
        "### PCA-XGBoost"
      ]
    },
    {
      "cell_type": "code",
      "execution_count": null,
      "id": "ZWO2YterLMZB",
      "metadata": {
        "id": "ZWO2YterLMZB"
      },
      "outputs": [],
      "source": [
        "# Definir tamaños de conjunto de datos para las curvas de aprendizaje\n",
        "train_sizes, train_scores, test_scores = learning_curve(best_pipeline, X_train, y_train, cv=3,\n",
        "                                                        train_sizes=np.linspace(0.1, 1.0, 10),\n",
        "                                                        scoring='accuracy')\n",
        "\n",
        "# Calcular la media y desviación estándar de las puntuaciones\n",
        "train_scores_mean = np.mean(train_scores, axis=1)\n",
        "train_scores_std = np.std(train_scores, axis=1)\n",
        "test_scores_mean = np.mean(test_scores, axis=1)\n",
        "test_scores_std = np.std(test_scores, axis=1)\n",
        "\n",
        "# Graficar las curvas de aprendizaje\n",
        "plt.figure(figsize=(8, 6))\n",
        "plt.fill_between(train_sizes, train_scores_mean - train_scores_std,\n",
        "                 train_scores_mean + train_scores_std, alpha=0.1,\n",
        "                 color=\"r\")\n",
        "plt.fill_between(train_sizes, test_scores_mean - test_scores_std,\n",
        "                 test_scores_mean + test_scores_std, alpha=0.1, color=\"g\")\n",
        "plt.plot(train_sizes, train_scores_mean, 'o-', color=\"r\", label=\"Training score\")\n",
        "plt.plot(train_sizes, test_scores_mean, 'o-', color=\"g\", label=\"Cross-validation score\")\n",
        "plt.xlabel(\"Training examples\")\n",
        "plt.ylabel(\"Score\")\n",
        "plt.legend(loc=\"best\")\n",
        "plt.title(\"Learning Curve (PCA + XGBoost)\")\n",
        "plt.show()\n"
      ]
    },
    {
      "cell_type": "markdown",
      "id": "bXd4MilDeNGk",
      "metadata": {
        "id": "bXd4MilDeNGk"
      },
      "source": [
        "Si desea ver las impresiones y recomendaciones acerca de las curvas de aprendizaje, ademas de las consideraciones de despliegue, por favor visite el informe completo en el siguiente enlace:\n",
        "\n",
        "Muchas gracias"
      ]
    }
  ],
  "metadata": {
    "colab": {
      "provenance": [],
      "include_colab_link": true
    },
    "kernelspec": {
      "display_name": "Python 3 (ipykernel)",
      "language": "python",
      "name": "python3"
    },
    "language_info": {
      "codemirror_mode": {
        "name": "ipython",
        "version": 3
      },
      "file_extension": ".py",
      "mimetype": "text/x-python",
      "name": "python",
      "nbconvert_exporter": "python",
      "pygments_lexer": "ipython3",
      "version": "3.9.12"
    }
  },
  "nbformat": 4,
  "nbformat_minor": 5
}